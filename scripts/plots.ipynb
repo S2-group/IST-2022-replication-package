{
 "cells": [
  {
   "cell_type": "markdown",
   "metadata": {},
   "source": [
    "# Data Analysis of extracted data"
   ]
  },
  {
   "cell_type": "markdown",
   "metadata": {},
   "source": [
    "This notebook contains the code that was used to analyze the extracted data and generate the plots included in the paper."
   ]
  },
  {
   "cell_type": "markdown",
   "metadata": {},
   "source": [
    "#### Import libraries and load extracted data."
   ]
  },
  {
   "cell_type": "code",
   "execution_count": 1,
   "metadata": {
    "pycharm": {
     "name": "#%%\n"
    }
   },
   "outputs": [],
   "source": [
    "import pandas as pd\n",
    "from matplotlib import pyplot as plt\n",
    "import seaborn as sns\n",
    "\n",
    "df = pd.read_csv(\"../data/extracted_data/extracted_data.csv\")\n",
    "\n",
    "PLOT_PATH = \"../plots\""
   ]
  },
  {
   "cell_type": "markdown",
   "metadata": {},
   "source": [
    "#### Helper functions"
   ]
  },
  {
   "cell_type": "code",
   "execution_count": 2,
   "metadata": {
    "pycharm": {
     "name": "#%%\n"
    }
   },
   "outputs": [],
   "source": [
    "def get_all_values(column):\n",
    "    \"\"\" Splits single values consisting of multiple values (e.g \"smartphone, tablet\") to multiple values\n",
    "    (e.g. \"smartphone\", \"tablet\" )\"\"\"\n",
    "    items = column.str.split(\", \", expand = False)\n",
    "    return pd.DataFrame([item for list_ in items for item in list_])\n",
    "\n",
    "def get_level(value, level=1):\n",
    "    \"\"\" Sets level for values.\n",
    "    Example: speed/plt/s\n",
    "    level 1: speed\n",
    "    level 2: speed/plt\n",
    "    level 3: speed/plt/s \"\"\"\n",
    "    diff_levels = value.split(\"/\")\n",
    "    return \"/\".join(diff_levels[:level+1])"
   ]
  },
  {
   "cell_type": "markdown",
   "metadata": {
    "pycharm": {
     "name": "#%% md\n"
    }
   },
   "source": [
    "# What is measured?\n",
    "What is the main aspect that the study aims to quantify?"
   ]
  },
  {
   "cell_type": "code",
   "execution_count": 3,
   "metadata": {
    "pycharm": {
     "name": "#%%\n"
    },
    "scrolled": true
   },
   "outputs": [
    {
     "name": "stdout",
     "output_type": "stream",
     "text": [
      "speed           16\n",
      "enerconsum      14\n",
      "bandwidth        4\n",
      "cacheperform     2\n",
      "memconsum        2\n",
      "dtype: int64\n"
     ]
    }
   ],
   "source": [
    "main_aspects = get_all_values(df[\"code_measured\"])\n",
    "print(main_aspects.value_counts())"
   ]
  },
  {
   "cell_type": "code",
   "execution_count": 4,
   "metadata": {
    "pycharm": {
     "name": "#%%\n"
    }
   },
   "outputs": [
    {
     "data": {
      "image/png": "[encoded data removed]",
      "text/plain": [
       "<Figure size 432x288 with 1 Axes>"
      ]
     },
     "metadata": {
      "needs_background": "light"
     },
     "output_type": "display_data"
    }
   ],
   "source": [
    "plt.rcParams.update({'font.size': 10}) # Set plot font size.\n",
    "g = sns.countplot(y=0, orient=\"h\", data=main_aspects, order=[\"speed\", \"enerconsum\", \n",
    "                                                             \"bandwidth\", \"cacheperform\", \"memconsum\"], \n",
    "                                                              color='tab:blue')\n",
    "g.set_xticks(range(20))\n",
    "g.set_xticklabels(range(20))\n",
    "g.set_yticks(range(5))\n",
    "\n",
    "# Please note that we map speed to PF (performance)\n",
    "g.set_yticklabels([\"PF\", \"EC\",  \"BW\", \"C\", \"MC\"])\n",
    "for p in g.patches:\n",
    "    height = p.get_width()\n",
    "    g.text(height + 0.5, p.get_y()+0.5, height ,ha=\"center\")\n",
    "g.set(ylabel=\"\", xlabel=\"Primary studies\" )\n",
    "plt.savefig(f\"{PLOT_PATH}/characteristics.pdf\",\n",
    "           dpi=300, bbox_inches='tight')"
   ]
  },
  {
   "cell_type": "markdown",
   "metadata": {},
   "source": [
    "# What metrics are used?"
   ]
  },
  {
   "cell_type": "code",
   "execution_count": 5,
   "metadata": {},
   "outputs": [
    {
     "name": "stdout",
     "output_type": "stream",
     "text": [
      "memconsum\n",
      "memconsum/mb           1\n",
      "memconsum/pss/ratio    1\n",
      "dtype: int64\n",
      "speed\n",
      "speed/plt              8\n",
      "speed/si               4\n",
      "speed/tti              2\n",
      "speed/lt               2\n",
      "speed/latency          2\n",
      "speed/relative(plt)    1\n",
      "speed/tbt              1\n",
      "speed/fci              1\n",
      "speed/mttw             1\n",
      "speed/lighthouse       1\n",
      "speed/ds               1\n",
      "speed/fmp              1\n",
      "speed/lttw             1\n",
      "speed/responsetime     1\n",
      "speed/fp               1\n",
      "speed/fr               1\n",
      "speed/ttfb             1\n",
      "speed/bd               1\n",
      "speed/eil              1\n",
      "speed/fcp              1\n",
      "Name: 0, dtype: int64\n",
      "enerconsum\n",
      "enerconsum/joules      10\n",
      "enerconsum/relative     2\n",
      "enerconsum/mAs          1\n",
      "enerconsum/mVs          1\n",
      "dtype: int64\n",
      "cacheperform\n",
      "cacheperform/actualcache     1\n",
      "cacheperform/cacheability    1\n",
      "cacheperform/hr/ratio        1\n",
      "cacheperform/nh              1\n",
      "cacheperform/nm              1\n",
      "cacheperform/ph              1\n",
      "cacheperform/pm              1\n",
      "dtype: int64\n",
      "bandwidth\n",
      "bandwidth/bytes    2\n",
      "bandwidth/kb       2\n",
      "dtype: int64\n"
     ]
    }
   ],
   "source": [
    "used_metrics = get_all_values(df[\"code_metrics\"])\n",
    "possible_aspects = main_aspects[0].unique()\n",
    "\n",
    "for aspect in possible_aspects:\n",
    "    print(aspect)\n",
    "    if aspect==\"speed\":\n",
    "        # While we have a lot of different versions of speed/plt (some use s, ms etc.) count them as one.\n",
    "        print(used_metrics[used_metrics[0].str.startswith(aspect)][0].str.split(\"/\")\n",
    "              .str[:2].str.join(\"/\").value_counts())\n",
    "    else:\n",
    "        print(used_metrics[used_metrics[0].str.startswith(aspect)].value_counts())\n"
   ]
  },
  {
   "cell_type": "markdown",
   "metadata": {
    "pycharm": {
     "name": "#%% md\n"
    }
   },
   "source": [
    "# What data analysis techniques are used?"
   ]
  },
  {
   "cell_type": "code",
   "execution_count": 6,
   "metadata": {
    "pycharm": {
     "name": "#%%\n"
    }
   },
   "outputs": [
    {
     "data": {
      "text/plain": [
       "descstats    28\n",
       "hyptest      10\n",
       "effsize       5\n",
       "correlana     4\n",
       "predmod       3\n",
       "dtype: int64"
      ]
     },
     "execution_count": 6,
     "metadata": {},
     "output_type": "execute_result"
    }
   ],
   "source": [
    "stats = get_all_values(df[\"code_dataanalysis\"])\n",
    "stats.value_counts()"
   ]
  },
  {
   "cell_type": "code",
   "execution_count": 7,
   "metadata": {
    "pycharm": {
     "name": "#%%\n"
    }
   },
   "outputs": [
    {
     "data": {
      "image/png": "[encoded data removed]",
      "text/plain": [
       "<Figure size 432x288 with 1 Axes>"
      ]
     },
     "metadata": {
      "needs_background": "light"
     },
     "output_type": "display_data"
    }
   ],
   "source": [
    "plt.rcParams.update({'font.size': 10})\n",
    "g = sns.countplot(y=0, orient=\"h\", data=stats, order=stats[0].value_counts().index, color='tab:blue',)\n",
    "g.set_yticks(range(5))\n",
    "g.set_yticklabels([\"DS\", \"HT\", \"ESE\", \"CA\", \"PM\"])\n",
    "\n",
    "g.set(xlabel=\"Primary studies\", ylabel=\"\")\n",
    "for p in g.patches:\n",
    "    height = p.get_width()\n",
    "    if height == 28 or height == 10:\n",
    "        g.text(height + 0.75, p.get_y()+0.45, height ,ha=\"center\")\n",
    "    else:\n",
    "        g.text(height + 0.5, p.get_y()+0.45, height ,ha=\"center\")\n",
    "g.set(xlim=(0, 30))\n",
    "\n",
    "plt.savefig(f\"{PLOT_PATH}/data_analysis.pdf\",\n",
    "dpi=300, bbox_inches='tight')"
   ]
  },
  {
   "cell_type": "markdown",
   "metadata": {
    "pycharm": {
     "name": "#%% md\n"
    }
   },
   "source": [
    "# How many studies provide a replication package of some sort?"
   ]
  },
  {
   "cell_type": "code",
   "execution_count": 8,
   "metadata": {
    "pycharm": {
     "name": "#%%\n"
    }
   },
   "outputs": [
    {
     "name": "stdout",
     "output_type": "stream",
     "text": [
      "no                            20\n",
      "yes/code_data_instructions     5\n",
      "yes/code_data                  2\n",
      "yes/code                       1\n",
      "Name: code_reppackage, dtype: int64\n"
     ]
    }
   ],
   "source": [
    "reppack = df[\"code_reppackage\"].value_counts()\n",
    "print(reppack)"
   ]
  },
  {
   "cell_type": "code",
   "execution_count": 9,
   "metadata": {
    "pycharm": {
     "name": "#%%\n"
    }
   },
   "outputs": [
    {
     "data": {
      "image/png": "[encoded data removed]",
      "text/plain": [
       "<Figure size 432x288 with 1 Axes>"
      ]
     },
     "metadata": {
      "needs_background": "light"
     },
     "output_type": "display_data"
    }
   ],
   "source": [
    "plt.rcParams.update({'font.size': 10})\n",
    "g = sns.countplot(y=\"code_reppackage\", orient=\"h\", data=df, \n",
    "                  order = df['code_reppackage'].value_counts().index, color=\"tab:blue\")\n",
    "\n",
    "xlabels = list(range(0,23,2))\n",
    "g.set_xticks(xlabels) \n",
    "\n",
    "g.set_xticklabels(xlabels)\n",
    "g.set_yticks(range(4))\n",
    "g.set_yticklabels([\"None\", \"ICD\", \"CD\", \"C\"])\n",
    "\n",
    "\n",
    "g.set(xlabel=\"Primary studies\", ylabel=\"\")\n",
    "for p in g.patches:\n",
    "    height = p.get_width()\n",
    "    g.text(height + 0.7, p.get_y()+0.45, height ,ha=\"center\")\n",
    "g.set(xlim=(0, 23))\n",
    "\n",
    "plt.savefig(f\"{PLOT_PATH}/reppackage.pdf\",\n",
    "dpi=300, bbox_inches='tight')"
   ]
  },
  {
   "cell_type": "markdown",
   "metadata": {
    "pycharm": {
     "name": "#%% md\n"
    }
   },
   "source": [
    "# Platform characteristics\n",
    "## What types of devices are used?"
   ]
  },
  {
   "cell_type": "code",
   "execution_count": 10,
   "metadata": {
    "pycharm": {
     "name": "#%%\n"
    }
   },
   "outputs": [
    {
     "data": {
      "text/plain": [
       "smartphone    20\n",
       "emulation      6\n",
       "tablet         4\n",
       "dtype: int64"
      ]
     },
     "execution_count": 10,
     "metadata": {},
     "output_type": "execute_result"
    }
   ],
   "source": [
    "device_types = get_all_values(df[\"code_platform\"])\n",
    "device_types.value_counts()"
   ]
  },
  {
   "cell_type": "code",
   "execution_count": 11,
   "metadata": {
    "pycharm": {
     "name": "#%%\n"
    }
   },
   "outputs": [
    {
     "data": {
      "image/png": "[encoded data removed]",
      "text/plain": [
       "<Figure size 432x288 with 1 Axes>"
      ]
     },
     "metadata": {
      "needs_background": "light"
     },
     "output_type": "display_data"
    }
   ],
   "source": [
    "plt.rcParams.update({'font.size': 17})\n",
    "\n",
    "g = sns.countplot(y=0, orient=\"h\", data=device_types, order=[\"smartphone\", 'emulation', \"tablet\"], \n",
    "                  color=\"tab:blue\")\n",
    "\n",
    "\n",
    "g.set_yticks(range(3))\n",
    "g.set_yticklabels([\"Smartphone\", \"Emulation\", \"Tablet\" ])\n",
    "\n",
    "\n",
    "g.set(xlabel=\"Primary studies\", ylabel=\"\") # You can comment this line out if you don't need title\n",
    "for p in g.patches:\n",
    "    height = p.get_width()\n",
    "    g.text(height + 1, p.get_y()+0.45, int(height) ,ha=\"center\")\n",
    "g.set(xlim=(0, 25))\n",
    "\n",
    "plt.savefig(f\"{PLOT_PATH}/devicetype.pdf\",\n",
    "dpi=300, bbox_inches='tight')\n",
    "\n"
   ]
  },
  {
   "cell_type": "markdown",
   "metadata": {
    "pycharm": {
     "name": "#%% md\n"
    }
   },
   "source": [
    "## OS Distribution"
   ]
  },
  {
   "cell_type": "code",
   "execution_count": 12,
   "metadata": {
    "pycharm": {
     "name": "#%%\n"
    }
   },
   "outputs": [
    {
     "name": "stdout",
     "output_type": "stream",
     "text": [
      "adroid     38\n",
      "emu         6\n",
      "ios         2\n",
      "symbian     1\n",
      "maemo       1\n",
      "Name: 0, dtype: int64\n"
     ]
    }
   ],
   "source": [
    "oses = get_all_values(df[\"code_os\"])\n",
    "oses = oses[0].apply(get_level, level=0)\n",
    "oses = oses.value_counts()\n",
    "print(oses)"
   ]
  },
  {
   "cell_type": "markdown",
   "metadata": {
    "pycharm": {
     "name": "#%% md\n"
    }
   },
   "source": [
    "Lets classify the maemo and symbian OS as \"other\" and remove the emulated devices."
   ]
  },
  {
   "cell_type": "code",
   "execution_count": 13,
   "metadata": {
    "pycharm": {
     "name": "#%%\n"
    }
   },
   "outputs": [
    {
     "data": {
      "text/plain": [
       "adroid    38\n",
       "ios        2\n",
       "other      2\n",
       "Name: 0, dtype: int64"
      ]
     },
     "execution_count": 13,
     "metadata": {},
     "output_type": "execute_result"
    }
   ],
   "source": [
    "oses = oses.drop([\"emu\", \"symbian\", \"maemo\"])\n",
    "oses[\"other\"] = 2\n",
    "oses"
   ]
  },
  {
   "cell_type": "code",
   "execution_count": 14,
   "metadata": {
    "pycharm": {
     "name": "#%%\n"
    }
   },
   "outputs": [
    {
     "name": "stderr",
     "output_type": "stream",
     "text": [
      "/home/omar/Desktop/litstudy/venv/lib/python3.8/site-packages/seaborn/_decorators.py:36: FutureWarning: Pass the following variables as keyword args: x, y. From version 0.12, the only valid positional argument will be `data`, and passing other arguments without an explicit keyword will result in an error or misinterpretation.\n",
      "  warnings.warn(\n"
     ]
    },
    {
     "data": {
      "image/png": "[encoded data removed]",
      "text/plain": [
       "<Figure size 432x288 with 1 Axes>"
      ]
     },
     "metadata": {
      "needs_background": "light"
     },
     "output_type": "display_data"
    }
   ],
   "source": [
    "plt.rcParams.update({'font.size': 17})\n",
    "\n",
    "g = sns.barplot(oses.values, oses.index, color=\"tab:blue\")\n",
    "\n",
    "g.set_yticks(range(3))\n",
    "g.set_yticklabels([\"Android\", \"iOS\", \"Other\"])\n",
    "\n",
    "\n",
    "g.set(xlabel=\"Primary studies\", ylabel=\"\") # You can comment this line out if you don't need title\n",
    "for p in g.patches:\n",
    "    height = p.get_width()\n",
    "    g.text(height + 1.5, p.get_y()+0.45, int(height) ,ha=\"center\")\n",
    "g.set(xlim=(0, 42))\n",
    "\n",
    "plt.savefig(f\"{PLOT_PATH}/os.pdf\",\n",
    "dpi=300, bbox_inches='tight')"
   ]
  },
  {
   "cell_type": "markdown",
   "metadata": {
    "pycharm": {
     "name": "#%% md\n"
    }
   },
   "source": [
    "## Browser distribution"
   ]
  },
  {
   "cell_type": "code",
   "execution_count": 15,
   "metadata": {
    "pycharm": {
     "name": "#%%\n"
    }
   },
   "outputs": [],
   "source": [
    "browsers = get_all_values(df[\"code_browser\"])\n",
    "names = browsers[0].apply(get_level, level=0)\n",
    "names = names.value_counts()"
   ]
  },
  {
   "cell_type": "markdown",
   "metadata": {
    "pycharm": {
     "name": "#%% md\n"
    }
   },
   "source": [
    "Since there is one paper that tested a large number of different browsers and versions (24 browsers\n",
    "that fall into the category other) we add them to other."
   ]
  },
  {
   "cell_type": "code",
   "execution_count": 16,
   "metadata": {
    "pycharm": {
     "name": "#%%\n"
    }
   },
   "outputs": [
    {
     "name": "stdout",
     "output_type": "stream",
     "text": [
      "chrome          13\n",
      "firefox          8\n",
      "modified         7\n",
      "other           31\n",
      "safari           2\n",
      "not provided     1\n",
      "Name: 0, dtype: int64\n"
     ]
    }
   ],
   "source": [
    "cleaned_names = names.drop([\"emu\", \"other*24\", \"opera\"])\n",
    "cleaned_names[\"other\"] = 31\n",
    "print(cleaned_names)"
   ]
  },
  {
   "cell_type": "code",
   "execution_count": 17,
   "metadata": {
    "pycharm": {
     "name": "#%%\n"
    }
   },
   "outputs": [
    {
     "name": "stderr",
     "output_type": "stream",
     "text": [
      "/home/omar/Desktop/litstudy/venv/lib/python3.8/site-packages/seaborn/_decorators.py:36: FutureWarning: Pass the following variables as keyword args: x, y. From version 0.12, the only valid positional argument will be `data`, and passing other arguments without an explicit keyword will result in an error or misinterpretation.\n",
      "  warnings.warn(\n"
     ]
    },
    {
     "data": {
      "image/png": "[encoded data removed]",
      "text/plain": [
       "<Figure size 432x288 with 1 Axes>"
      ]
     },
     "metadata": {
      "needs_background": "light"
     },
     "output_type": "display_data"
    }
   ],
   "source": [
    "plt.rcParams.update({'font.size': 17})\n",
    "cleaned_names = cleaned_names.sort_values(ascending=False)\n",
    "g = sns.barplot(cleaned_names.values, cleaned_names.index, color=\"tab:blue\")\n",
    "\n",
    "\n",
    "g.set_yticks(range(6))\n",
    "g.set_yticklabels([\"Other\", \"Chrome\", \"FireFox\", \"Modified\", \"Safari\", \"Not Provided\"])\n",
    "\n",
    "g.set(xlabel=\"Primary studies\", ylabel=\"\")\n",
    "for p in g.patches:\n",
    "    height = p.get_width()\n",
    "    g.text(height + 1.5, p.get_y()+0.5, int(height) ,ha=\"center\")\n",
    "g.set(xlim=(0, 35))\n",
    "\n",
    "plt.savefig(f\"{PLOT_PATH}/browser.pdf\",\n",
    "dpi=300, bbox_inches='tight')"
   ]
  },
  {
   "cell_type": "markdown",
   "metadata": {
    "pycharm": {
     "name": "#%% md\n"
    }
   },
   "source": [
    "# Website characteristics\n",
    "## Website type distribution"
   ]
  },
  {
   "cell_type": "code",
   "execution_count": 18,
   "metadata": {
    "pycharm": {
     "name": "#%%\n"
    }
   },
   "outputs": [
    {
     "data": {
      "text/plain": [
       "real               15\n",
       "real, synthetic     9\n",
       "synthetic           4\n",
       "Name: code_sitestype, dtype: int64"
      ]
     },
     "execution_count": 18,
     "metadata": {},
     "output_type": "execute_result"
    }
   ],
   "source": [
    "df[\"code_sitestype\"].value_counts()"
   ]
  },
  {
   "cell_type": "code",
   "execution_count": 19,
   "metadata": {
    "pycharm": {
     "name": "#%%\n"
    }
   },
   "outputs": [
    {
     "data": {
      "image/png": "[encoded data removed]",
      "text/plain": [
       "<Figure size 432x288 with 1 Axes>"
      ]
     },
     "metadata": {
      "needs_background": "light"
     },
     "output_type": "display_data"
    }
   ],
   "source": [
    "plt.rcParams.update({'font.size': 17})\n",
    "\n",
    "g = sns.countplot(y=\"code_sitestype\", orient=\"h\", data=df, order = df['code_sitestype'].value_counts().index, color=\"tab:blue\")\n",
    "\n",
    "g.set_yticks(range(3))\n",
    "g.set_yticklabels([\"Real\", \"Both\", \"Synthetic\"])\n",
    "\n",
    "g.set(xlabel=\"Primary studies\", ylabel=\"\") # You can comment this line out if you don't need title\n",
    "for p in g.patches:\n",
    "    height = p.get_width()\n",
    "    g.text(height + .75, p.get_y()+0.45, int(height) ,ha=\"center\")\n",
    "g.set(xlim=(0, 20))\n",
    "\n",
    "plt.savefig(f\"{PLOT_PATH}/sitetype.pdf\", dpi=300, bbox_inches='tight')\n"
   ]
  },
  {
   "cell_type": "markdown",
   "metadata": {
    "pycharm": {
     "name": "#%% md\n"
    }
   },
   "source": [
    "## Selection sources distribution\n"
   ]
  },
  {
   "cell_type": "code",
   "execution_count": 20,
   "metadata": {
    "pycharm": {
     "name": "#%%\n"
    }
   },
   "outputs": [
    {
     "name": "stdout",
     "output_type": "stream",
     "text": [
      "alexa          14\n",
      "nosource        6\n",
      "selfcreated     4\n",
      "list            3\n",
      "benchmarks      1\n",
      "preprovided     1\n",
      "scraped         1\n",
      "dtype: int64\n"
     ]
    }
   ],
   "source": [
    "df[\"code_sitesingle\"].value_counts()\n",
    "site_source = get_all_values(df[\"code_sitesingle\"]).value_counts()\n",
    "print(site_source)"
   ]
  },
  {
   "cell_type": "markdown",
   "metadata": {},
   "source": [
    "We remove the self created websites from this list since we don't look at synthethic sites here. Next we group the preprovided, scraped and benchmark sites into one group called \"other\"."
   ]
  },
  {
   "cell_type": "code",
   "execution_count": 21,
   "metadata": {
    "pycharm": {
     "name": "#%%\n"
    }
   },
   "outputs": [
    {
     "name": "stdout",
     "output_type": "stream",
     "text": [
      "alexa        14\n",
      "nosource      6\n",
      "list          3\n",
      "realother     3\n",
      "dtype: int64\n"
     ]
    },
    {
     "name": "stderr",
     "output_type": "stream",
     "text": [
      "/home/omar/Desktop/litstudy/venv/lib/python3.8/site-packages/pandas/core/generic.py:4153: PerformanceWarning: dropping on a non-lexsorted multi-index without a level parameter may impact performance.\n",
      "  obj = obj._drop_axis(labels, axis, level=level, errors=errors)\n"
     ]
    }
   ],
   "source": [
    "site_source = site_source.drop([\"selfcreated\", \"scraped\", \"benchmarks\", \"preprovided\"])\n",
    "site_source[\"realother\"] = 3\n",
    "site_source[\"list\"] = 3\n",
    "print(site_source)"
   ]
  },
  {
   "cell_type": "code",
   "execution_count": 22,
   "metadata": {
    "pycharm": {
     "name": "#%%\n"
    }
   },
   "outputs": [
    {
     "name": "stderr",
     "output_type": "stream",
     "text": [
      "/home/omar/Desktop/litstudy/venv/lib/python3.8/site-packages/seaborn/_decorators.py:36: FutureWarning: Pass the following variables as keyword args: x, y. From version 0.12, the only valid positional argument will be `data`, and passing other arguments without an explicit keyword will result in an error or misinterpretation.\n",
      "  warnings.warn(\n"
     ]
    },
    {
     "data": {
      "image/png": "[encoded data removed]",
      "text/plain": [
       "<Figure size 432x288 with 1 Axes>"
      ]
     },
     "metadata": {
      "needs_background": "light"
     },
     "output_type": "display_data"
    }
   ],
   "source": [
    "plt.rcParams.update({'font.size': 17})\n",
    "site_source.index = [\"Alexa\", \"No Source\", \"Ad-hoc List\", \"Other\"]\n",
    "g = sns.barplot(site_source.values, site_source.index, color=\"tab:blue\")\n",
    "\n",
    "g.set_yticks(range(4))\n",
    "g.set_yticklabels([\"Alexa\", \"No\\n Source\", \"Ad-hoc\\nList\", \"Other\"])\n",
    "\n",
    "g.set(xlabel=\"Primary studies\", ylabel=\"\") # You can comment this line out if you don't need title\n",
    "for p in g.patches:\n",
    "    height = p.get_width()\n",
    "    g.text(height + 1.0, p.get_y()+0.45, int(height) ,ha=\"center\")\n",
    "g.set(xlim=(0, 20))\n",
    "\n",
    "plt.savefig(f\"{PLOT_PATH}/sitetype.pdf\",\n",
    "dpi=300, bbox_inches='tight')\n"
   ]
  },
  {
   "cell_type": "markdown",
   "metadata": {
    "pycharm": {
     "name": "#%% md\n"
    }
   },
   "source": [
    "## Hosting distribution\n"
   ]
  },
  {
   "cell_type": "code",
   "execution_count": 23,
   "metadata": {
    "pycharm": {
     "name": "#%%\n"
    }
   },
   "outputs": [
    {
     "data": {
      "text/plain": [
       "original          16\n",
       "mirrored           7\n",
       "not applicable     4\n",
       "not provided       1\n",
       "Name: code_siteshosted, dtype: int64"
      ]
     },
     "execution_count": 23,
     "metadata": {},
     "output_type": "execute_result"
    }
   ],
   "source": [
    "hosted = df[\"code_siteshosted\"].value_counts()\n",
    "hosted"
   ]
  },
  {
   "cell_type": "markdown",
   "metadata": {},
   "source": [
    "Don't take into account the 4 papers using synthethic websites..."
   ]
  },
  {
   "cell_type": "code",
   "execution_count": 24,
   "metadata": {
    "pycharm": {
     "name": "#%%\n"
    }
   },
   "outputs": [],
   "source": [
    "hosted = hosted.drop([\"not applicable\"])"
   ]
  },
  {
   "cell_type": "code",
   "execution_count": 25,
   "metadata": {
    "pycharm": {
     "name": "#%%\n"
    }
   },
   "outputs": [
    {
     "name": "stderr",
     "output_type": "stream",
     "text": [
      "/home/omar/Desktop/litstudy/venv/lib/python3.8/site-packages/seaborn/_decorators.py:36: FutureWarning: Pass the following variables as keyword args: x, y. From version 0.12, the only valid positional argument will be `data`, and passing other arguments without an explicit keyword will result in an error or misinterpretation.\n",
      "  warnings.warn(\n"
     ]
    },
    {
     "data": {
      "image/png": "[encoded data removed]",
      "text/plain": [
       "<Figure size 432x288 with 1 Axes>"
      ]
     },
     "metadata": {
      "needs_background": "light"
     },
     "output_type": "display_data"
    }
   ],
   "source": [
    "plt.rcParams.update({'font.size': 17})\n",
    "\n",
    "g = sns.barplot(hosted.values, hosted.index, color=\"tab:blue\")\n",
    "\n",
    "\n",
    "g.set_yticks(range(3))\n",
    "g.set_yticklabels([\"Original\", \"Mirrored\", \"Not Provided\",])\n",
    "\n",
    "g.set(xlabel=\"Primary studies\", ylabel=\"\") # You can comment this line out if you don't need title\n",
    "for p in g.patches:\n",
    "    height = p.get_width()\n",
    "    g.text(height + 1.0, p.get_y()+0.45, int(height) ,ha=\"center\")\n",
    "g.set(xlim=(0, 20))\n",
    "\n",
    "plt.savefig(f\"{PLOT_PATH}/sitehosting.pdf\",\n",
    "dpi=300, bbox_inches='tight')"
   ]
  },
  {
   "cell_type": "markdown",
   "metadata": {
    "pycharm": {
     "name": "#%% md\n"
    }
   },
   "source": [
    "## Number of websites"
   ]
  },
  {
   "cell_type": "code",
   "execution_count": 26,
   "metadata": {
    "pycharm": {
     "name": "#%%\n"
    }
   },
   "outputs": [
    {
     "data": {
      "text/html": [
       "<div>\n",
       "<style scoped>\n",
       "    .dataframe tbody tr th:only-of-type {\n",
       "        vertical-align: middle;\n",
       "    }\n",
       "\n",
       "    .dataframe tbody tr th {\n",
       "        vertical-align: top;\n",
       "    }\n",
       "\n",
       "    .dataframe thead th {\n",
       "        text-align: right;\n",
       "    }\n",
       "</style>\n",
       "<table border=\"1\" class=\"dataframe\">\n",
       "  <thead>\n",
       "    <tr style=\"text-align: right;\">\n",
       "      <th></th>\n",
       "      <th>Title</th>\n",
       "      <th>code_nrsites</th>\n",
       "    </tr>\n",
       "  </thead>\n",
       "  <tbody>\n",
       "    <tr>\n",
       "      <th>0</th>\n",
       "      <td>Mobile Web Browsing Under Memory Pressure</td>\n",
       "      <td>100</td>\n",
       "    </tr>\n",
       "    <tr>\n",
       "      <th>1</th>\n",
       "      <td>Web Browser Workload Characterization for Powe...</td>\n",
       "      <td>6</td>\n",
       "    </tr>\n",
       "    <tr>\n",
       "      <th>2</th>\n",
       "      <td>Privacy as a proxy for Green Web browsing: Met...</td>\n",
       "      <td>notprovided</td>\n",
       "    </tr>\n",
       "    <tr>\n",
       "      <th>3</th>\n",
       "      <td>An Energy Efficiency Study of Web-Based Commun...</td>\n",
       "      <td>3</td>\n",
       "    </tr>\n",
       "    <tr>\n",
       "      <th>4</th>\n",
       "      <td>Investigating the Correlation between Performa...</td>\n",
       "      <td>21</td>\n",
       "    </tr>\n",
       "    <tr>\n",
       "      <th>5</th>\n",
       "      <td>Why are Web Browsers Slow on Smartphones?</td>\n",
       "      <td>20</td>\n",
       "    </tr>\n",
       "    <tr>\n",
       "      <th>6</th>\n",
       "      <td>From 6.2 to 0.15 seconds – an Industrial Case ...</td>\n",
       "      <td>1</td>\n",
       "    </tr>\n",
       "    <tr>\n",
       "      <th>7</th>\n",
       "      <td>The Web for Underpowered Mobile Devices: Lesso...</td>\n",
       "      <td>50</td>\n",
       "    </tr>\n",
       "    <tr>\n",
       "      <th>8</th>\n",
       "      <td>Demystifying the Imperfect Client-Side Cache P...</td>\n",
       "      <td>146</td>\n",
       "    </tr>\n",
       "    <tr>\n",
       "      <th>9</th>\n",
       "      <td>Performance Analysis of Web-browsing Speed in ...</td>\n",
       "      <td>3</td>\n",
       "    </tr>\n",
       "    <tr>\n",
       "      <th>10</th>\n",
       "      <td>What is wrecking your dataplan? A measurement ...</td>\n",
       "      <td>95728</td>\n",
       "    </tr>\n",
       "    <tr>\n",
       "      <th>11</th>\n",
       "      <td>Understanding Quality of Experiences on Differ...</td>\n",
       "      <td>337</td>\n",
       "    </tr>\n",
       "    <tr>\n",
       "      <th>12</th>\n",
       "      <td>Push or Request: An Investigation of HTTP/2 Se...</td>\n",
       "      <td>50</td>\n",
       "    </tr>\n",
       "    <tr>\n",
       "      <th>13</th>\n",
       "      <td>mBenchLab: Measuring QoE of Web Applications u...</td>\n",
       "      <td>4</td>\n",
       "    </tr>\n",
       "    <tr>\n",
       "      <th>14</th>\n",
       "      <td>Experimental Study of Energy and Bandwidth Cos...</td>\n",
       "      <td>5</td>\n",
       "    </tr>\n",
       "    <tr>\n",
       "      <th>15</th>\n",
       "      <td>AMP up your Mobile Web Experience: Characteriz...</td>\n",
       "      <td>8528</td>\n",
       "    </tr>\n",
       "    <tr>\n",
       "      <th>16</th>\n",
       "      <td>Analysis of the Energy Consumption of JavaScri...</td>\n",
       "      <td>8</td>\n",
       "    </tr>\n",
       "    <tr>\n",
       "      <th>17</th>\n",
       "      <td>Characterizing Resource Usage for Mobile Web B...</td>\n",
       "      <td>470</td>\n",
       "    </tr>\n",
       "    <tr>\n",
       "      <th>18</th>\n",
       "      <td>Refining Mobile Web Design for Reducing Energy...</td>\n",
       "      <td>13</td>\n",
       "    </tr>\n",
       "    <tr>\n",
       "      <th>19</th>\n",
       "      <td>Need for Mobile Speed: A Historical Analysis o...</td>\n",
       "      <td>150</td>\n",
       "    </tr>\n",
       "    <tr>\n",
       "      <th>20</th>\n",
       "      <td>Caching Doesn’t Improve Mobile Web Performance...</td>\n",
       "      <td>400</td>\n",
       "    </tr>\n",
       "    <tr>\n",
       "      <th>21</th>\n",
       "      <td>Web Experience in Mobile Networks: Lessons fro...</td>\n",
       "      <td>18</td>\n",
       "    </tr>\n",
       "    <tr>\n",
       "      <th>22</th>\n",
       "      <td>Assessing the Impact of Service Workers on the...</td>\n",
       "      <td>7</td>\n",
       "    </tr>\n",
       "    <tr>\n",
       "      <th>23</th>\n",
       "      <td>Evaluating the Impact of Caching on the Energy...</td>\n",
       "      <td>9</td>\n",
       "    </tr>\n",
       "    <tr>\n",
       "      <th>24</th>\n",
       "      <td>Who killed my battery: Analyzing mobile browse...</td>\n",
       "      <td>25</td>\n",
       "    </tr>\n",
       "    <tr>\n",
       "      <th>25</th>\n",
       "      <td>An In-depth study of Mobile Browser Performance</td>\n",
       "      <td>200</td>\n",
       "    </tr>\n",
       "    <tr>\n",
       "      <th>26</th>\n",
       "      <td>Measuring AJAX Performance on a GPRS Mobile Pl...</td>\n",
       "      <td>2</td>\n",
       "    </tr>\n",
       "    <tr>\n",
       "      <th>27</th>\n",
       "      <td>Evaluation of Techniques for web 3D Graphics A...</td>\n",
       "      <td>3</td>\n",
       "    </tr>\n",
       "  </tbody>\n",
       "</table>\n",
       "</div>"
      ],
      "text/plain": [
       "                                                Title code_nrsites\n",
       "0           Mobile Web Browsing Under Memory Pressure          100\n",
       "1   Web Browser Workload Characterization for Powe...            6\n",
       "2   Privacy as a proxy for Green Web browsing: Met...  notprovided\n",
       "3   An Energy Efficiency Study of Web-Based Commun...            3\n",
       "4   Investigating the Correlation between Performa...           21\n",
       "5           Why are Web Browsers Slow on Smartphones?           20\n",
       "6   From 6.2 to 0.15 seconds – an Industrial Case ...            1\n",
       "7   The Web for Underpowered Mobile Devices: Lesso...           50\n",
       "8   Demystifying the Imperfect Client-Side Cache P...          146\n",
       "9   Performance Analysis of Web-browsing Speed in ...            3\n",
       "10  What is wrecking your dataplan? A measurement ...        95728\n",
       "11  Understanding Quality of Experiences on Differ...          337\n",
       "12  Push or Request: An Investigation of HTTP/2 Se...           50\n",
       "13  mBenchLab: Measuring QoE of Web Applications u...            4\n",
       "14  Experimental Study of Energy and Bandwidth Cos...            5\n",
       "15  AMP up your Mobile Web Experience: Characteriz...         8528\n",
       "16  Analysis of the Energy Consumption of JavaScri...            8\n",
       "17  Characterizing Resource Usage for Mobile Web B...          470\n",
       "18  Refining Mobile Web Design for Reducing Energy...           13\n",
       "19  Need for Mobile Speed: A Historical Analysis o...          150\n",
       "20  Caching Doesn’t Improve Mobile Web Performance...          400\n",
       "21  Web Experience in Mobile Networks: Lessons fro...           18\n",
       "22  Assessing the Impact of Service Workers on the...            7\n",
       "23  Evaluating the Impact of Caching on the Energy...            9\n",
       "24  Who killed my battery: Analyzing mobile browse...           25\n",
       "25    An In-depth study of Mobile Browser Performance          200\n",
       "26  Measuring AJAX Performance on a GPRS Mobile Pl...            2\n",
       "27  Evaluation of Techniques for web 3D Graphics A...            3"
      ]
     },
     "execution_count": 26,
     "metadata": {},
     "output_type": "execute_result"
    }
   ],
   "source": [
    "df[[\"Title\", \"code_nrsites\"]]"
   ]
  },
  {
   "cell_type": "markdown",
   "metadata": {
    "pycharm": {
     "name": "#%% md\n"
    }
   },
   "source": [
    "We remove the paper that did not provide the nr of subjects. In addition, to keep the plot readable, we only show the papers that use less than 150 subjects."
   ]
  },
  {
   "cell_type": "code",
   "execution_count": 27,
   "metadata": {},
   "outputs": [
    {
     "name": "stdout",
     "output_type": "stream",
     "text": [
      "Subjects NOT included in plots\n",
      "10    95728\n",
      "11      337\n",
      "15     8528\n",
      "17      470\n",
      "20      400\n",
      "25      200\n",
      "Name: code_nrsites, dtype: int64\n"
     ]
    }
   ],
   "source": [
    "copy = df.copy()\n",
    "\n",
    "# Remove paper that does not provide data.\n",
    "copy = copy.drop([2])\n",
    "\n",
    "copy[\"code_nrsites\"] = copy[\"code_nrsites\"].astype(\"int\")\n",
    "print(\"Subjects NOT included in plots\")\n",
    "print(copy[(copy[\"code_nrsites\"]) > 150][\"code_nrsites\"])\n",
    "plotthis = copy[(copy[\"code_nrsites\"]) < 151]"
   ]
  },
  {
   "cell_type": "code",
   "execution_count": 28,
   "metadata": {
    "pycharm": {
     "name": "#%%\n"
    }
   },
   "outputs": [
    {
     "data": {
      "image/png": "[encoded data removed]",
      "text/plain": [
       "<Figure size 432x288 with 1 Axes>"
      ]
     },
     "metadata": {
      "needs_background": "light"
     },
     "output_type": "display_data"
    }
   ],
   "source": [
    "plt.rcParams.update({'font.size': 17})\n",
    "\n",
    "copy[\"code_nrsites\"] = copy[\"code_nrsites\"].astype(float)\n",
    "g = sns.histplot(data=plotthis, x=\"code_nrsites\", color=\"tab:blue\", binwidth=5)\n",
    "\n",
    "g.set(xlabel=\"Number of subjects\", ylabel=\"\")\n",
    "for p in g.patches:\n",
    "    height = p.get_height()\n",
    "    if height != 0:\n",
    "        g.text(p.get_x()+p.get_width()/2., height+0.3, height, ha=\"center\", fontsize=15)\n",
    "g.set(ylim=(0, 10))\n",
    "\n",
    "plt.savefig(f\"{PLOT_PATH}/nrsites.pdf\",\n",
    "dpi=300, bbox_inches='tight')"
   ]
  },
  {
   "cell_type": "markdown",
   "metadata": {},
   "source": [
    "## Subjects provided distribution"
   ]
  },
  {
   "cell_type": "code",
   "execution_count": 29,
   "metadata": {},
   "outputs": [
    {
     "data": {
      "text/plain": [
       "Yes          14\n",
       "No           10\n",
       "synthetic     4\n",
       "Name: code_sitesprovided, dtype: int64"
      ]
     },
     "execution_count": 29,
     "metadata": {},
     "output_type": "execute_result"
    }
   ],
   "source": [
    "df[\"code_sitesprovided\"].value_counts()"
   ]
  },
  {
   "cell_type": "markdown",
   "metadata": {
    "pycharm": {
     "name": "#%% md\n"
    }
   },
   "source": [
    "# Scope distribution\n",
    "\n"
   ]
  },
  {
   "cell_type": "code",
   "execution_count": 30,
   "metadata": {
    "pycharm": {
     "name": "#%%\n"
    }
   },
   "outputs": [
    {
     "data": {
      "image/png": "[encoded data removed]",
      "text/plain": [
       "<Figure size 432x288 with 1 Axes>"
      ]
     },
     "metadata": {
      "needs_background": "light"
     },
     "output_type": "display_data"
    }
   ],
   "source": [
    "plt.rcParams.update({'font.size': 10})\n",
    "g = sns.countplot(y=\"code_scope\", orient=\"h\", data=df, order = df['code_scope'].value_counts().index, color=\"tab:blue\")\n",
    "\n",
    "g.set_yticks(range(3))\n",
    "g.set_yticklabels([\"Page Load\", \"Usage Scenario\", \"Both\"])\n",
    "\n",
    "\n",
    "g.set(xlabel=\"Primary studies\", ylabel=\"\")\n",
    "for p in g.patches:\n",
    "    height = p.get_width()\n",
    "    if height == 26:\n",
    "        g.text(height + 0.75, p.get_y()+0.45, height ,ha=\"center\")\n",
    "    else:\n",
    "        g.text(height + 0.7, p.get_y()+0.45, height ,ha=\"center\")\n",
    "g.set(xlim=(0, 25))\n",
    "\n",
    "plt.savefig(f\"{PLOT_PATH}/scope.pdf\",\n",
    "dpi=300, bbox_inches='tight')\n"
   ]
  },
  {
   "cell_type": "markdown",
   "metadata": {},
   "source": [
    "# Focus distribution"
   ]
  },
  {
   "cell_type": "code",
   "execution_count": 31,
   "metadata": {},
   "outputs": [
    {
     "data": {
      "text/plain": [
       "all           24\n",
       "javascript     4\n",
       "Name: code_focus, dtype: int64"
      ]
     },
     "execution_count": 31,
     "metadata": {},
     "output_type": "execute_result"
    }
   ],
   "source": [
    "df[\"code_focus\"].value_counts()"
   ]
  },
  {
   "cell_type": "markdown",
   "metadata": {},
   "source": [
    "# Network condition distribution\n",
    "\n"
   ]
  },
  {
   "cell_type": "code",
   "execution_count": 32,
   "metadata": {
    "pycharm": {
     "name": "#%%\n"
    }
   },
   "outputs": [
    {
     "data": {
      "text/plain": [
       "wifi(real)           12\n",
       "3g(real)              8\n",
       "not provided          6\n",
       "ethernet(real)        3\n",
       "4g(emu)               2\n",
       "4g(real)              2\n",
       "wifi(emu)             2\n",
       "2g(emu)               1\n",
       "3g(emu)               1\n",
       "GPRS(real)            1\n",
       "ethernet(emu)         1\n",
       "lte(real)             1\n",
       "simulated             1\n",
       "simulated 4 times     1\n",
       "dtype: int64"
      ]
     },
     "execution_count": 32,
     "metadata": {},
     "output_type": "execute_result"
    }
   ],
   "source": [
    "networkconditions = get_all_values(df[\"code_networkcondition\"])\n",
    "networkconditions.value_counts()"
   ]
  },
  {
   "cell_type": "code",
   "execution_count": 33,
   "metadata": {
    "pycharm": {
     "name": "#%%\n"
    }
   },
   "outputs": [
    {
     "data": {
      "image/png": "[encoded data removed]",
      "text/plain": [
       "<Figure size 432x288 with 1 Axes>"
      ]
     },
     "metadata": {
      "needs_background": "light"
     },
     "output_type": "display_data"
    }
   ],
   "source": [
    "plt.rcParams.update({'font.size': 10})\n",
    "d = {'category': [\"Real\", \"Real\", \"Real\", \"Simulated\", \n",
    "                  \"Real\", \"Simulated\", \"Simulated\", \"Real\", \n",
    "                  \"Simulated\", \"Simulated\", \"Simulated\", \"Not Provided\", \"Real\"],\n",
    "     'Type': [\"WiFi\", \"3G\", \"Ethernet\", \"WiFi\", \"4G\", \"4G\", \n",
    "              \"Not Provided\", \"LTE\", \"Ethernet\", \"3G\", \"2G\", \"Not Provided\", \"GPRS\"],\n",
    "     'occurrences': [12, 8, 3, 2, 2,2, 5, 1, 1, 1,1, 6, 1 ]}\n",
    "\n",
    "newdf = pd.DataFrame(data=d)\n",
    "g= sns.barplot(x=\"occurrences\",\n",
    "            y=\"category\",\n",
    "            hue=\"Type\",\n",
    "            data=newdf,\n",
    "               )\n",
    "\n",
    "import math\n",
    "import numpy as np\n",
    "g.set(xlabel=\"Primary studies\", ylabel=\"\")\n",
    "\n",
    "g.patches.sort(key=lambda x: x.get_y(), reverse=False)\n",
    "\n",
    "final = []\n",
    "for p in g.patches:\n",
    "    if np.isfinite(p.get_width()):\n",
    "       final.append(p)\n",
    "\n",
    "g.patches = final\n",
    "start = -0.4\n",
    "increment = 0.17\n",
    "for i, p in enumerate(g.patches):\n",
    "    p.set_height(.17)\n",
    "    p.set_y(start)\n",
    "    if i == 5 or i == 11:\n",
    "        start = start + increment*2\n",
    "    else:\n",
    "        start = start + increment\n",
    "    if p.get_width() == 12:\n",
    "        g.text(p.get_width() + 0.60, p.get_y() + 0.125, \n",
    "               int(p.get_width()),ha=\"center\", fontdict={'size': 10,})\n",
    "    else:\n",
    "        g.text(p.get_width() + 0.42, p.get_y() + 0.125, \n",
    "               int(p.get_width()),ha=\"center\", fontdict={'size': 10,})\n",
    "\n",
    "\n",
    "g.set(xlim=(0, int(20)))\n",
    "\n",
    "plt.savefig(f\"{PLOT_PATH}/network.pdf\",\n",
    "dpi=300, bbox_inches='tight')\n",
    "\n"
   ]
  },
  {
   "cell_type": "markdown",
   "metadata": {},
   "source": [
    "# Browser cache use distribution"
   ]
  },
  {
   "cell_type": "code",
   "execution_count": 34,
   "metadata": {
    "pycharm": {
     "name": "#%%\n"
    },
    "scrolled": true
   },
   "outputs": [
    {
     "data": {
      "image/png": "[encoded data removed]",
      "text/plain": [
       "<Figure size 432x288 with 1 Axes>"
      ]
     },
     "metadata": {
      "needs_background": "light"
     },
     "output_type": "display_data"
    }
   ],
   "source": [
    "g = sns.countplot(y=\"code_caching\", orient=\"h\", data=df, \n",
    "                  order = df['code_caching'].value_counts().index, color=\"tab:blue\")\n",
    "\n",
    "g.set_yticks(range(4))\n",
    "g.set_yticklabels([\"Disabled\", \"Not Provided\", \"Both\", \"Enabled\"])\n",
    "\n",
    "g.set(xlabel=\"Primary studies\", ylabel=\"\")\n",
    "for p in g.patches:\n",
    "    height = p.get_width()\n",
    "    if height == 26:\n",
    "        g.text(height + 0.75, p.get_y()+0.45, height ,ha=\"center\")\n",
    "    else:\n",
    "        g.text(height + 0.5, p.get_y()+0.45, height ,ha=\"center\")\n",
    "g.set(xlim=(0, 15))\n",
    "\n",
    "plt.savefig(f\"{PLOT_PATH}/caching.pdf\",\n",
    "dpi=300, bbox_inches='tight')\n",
    "\n",
    "\n"
   ]
  },
  {
   "cell_type": "markdown",
   "metadata": {
    "pycharm": {
     "name": "#%%\n"
    }
   },
   "source": [
    "# Found challenges by the papers during research"
   ]
  },
  {
   "cell_type": "code",
   "execution_count": 35,
   "metadata": {},
   "outputs": [
    {
     "data": {
      "text/plain": [
       "low generalizability           16\n",
       "not provided                    9\n",
       "limitations of used metrics     6\n",
       "measurement errors              6\n",
       "controlled                      1\n",
       "problems during experiment      1\n",
       "dtype: int64"
      ]
     },
     "execution_count": 35,
     "metadata": {},
     "output_type": "execute_result"
    }
   ],
   "source": [
    "challenges = get_all_values(df[\"code_challenges\"])\n",
    "challenges.value_counts()"
   ]
  }
 ],
 "metadata": {
  "kernelspec": {
   "display_name": "Python 3",
   "language": "python",
   "name": "python3"
  },
  "language_info": {
   "codemirror_mode": {
    "name": "ipython",
    "version": 3
   },
   "file_extension": ".py",
   "mimetype": "text/x-python",
   "name": "python",
   "nbconvert_exporter": "python",
   "pygments_lexer": "ipython3",
   "version": "3.8.6"
  }
 },
 "nbformat": 4,
 "nbformat_minor": 1
}
