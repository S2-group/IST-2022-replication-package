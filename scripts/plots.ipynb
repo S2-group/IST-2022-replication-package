{
 "cells": [
  {
   "cell_type": "markdown",
   "metadata": {},
   "source": [
    "# Data Analysis of extracted data"
   ]
  },
  {
   "cell_type": "markdown",
   "metadata": {},
   "source": [
    "This notebook contains the code that was used to analyze the extracted data and generate the plots included in the paper."
   ]
  },
  {
   "cell_type": "markdown",
   "metadata": {},
   "source": [
    "#### Import libraries and load extracted data."
   ]
  },
  {
   "cell_type": "code",
   "execution_count": 1,
   "metadata": {
    "pycharm": {
     "name": "#%%\n"
    }
   },
   "outputs": [],
   "source": [
    "import pandas as pd\n",
    "from matplotlib import pyplot as plt\n",
    "import seaborn as sns\n",
    "sns.set_style(\"white\", rc={\"axes.spines.right\": False, \"axes.spines.top\": False, \"axes.spines.left\": False})\n",
    "\n",
    "df = pd.read_excel(\"../data/extracted_data.xlsx\")\n",
    "\n",
    "PLOT_PATH = \"../paper/figures/\""
   ]
  },
  {
   "cell_type": "markdown",
   "metadata": {},
   "source": [
    "#### Helper functions"
   ]
  },
  {
   "cell_type": "code",
   "execution_count": 3,
   "metadata": {
    "pycharm": {
     "name": "#%%\n"
    }
   },
   "outputs": [],
   "source": [
    "def get_all_values(column):\n",
    "    \"\"\" Splits single values consisting of multiple values (e.g \"smartphone, tablet\") to multiple values\n",
    "    (e.g. \"smartphone\", \"tablet\" )\"\"\"\n",
    "    items = column.str.split(\", \", expand = False)\n",
    "    return pd.DataFrame([item for list_ in items for item in list_])\n",
    "\n",
    "def get_level(value, level=1):\n",
    "    \"\"\" Sets level for values.\n",
    "    Example: speed/plt/s\n",
    "    level 1: speed\n",
    "    level 2: speed/plt\n",
    "    level 3: speed/plt/s \"\"\"\n",
    "    diff_levels = value.split(\"/\")\n",
    "    return \"/\".join(diff_levels[:level+1])\n",
    "\n",
    "def change_width(ax, new_value) :\n",
    "    for patch in ax.patches :\n",
    "        current_height = patch.get_height()\n",
    "        diff = current_height - new_value\n",
    "        # we recenter the bar\n",
    "        patch.set_y(patch.get_y() + diff * .5 )\n",
    "        # we change the bar width\n",
    "        patch.set_height(new_value)\n",
    "\n",
    "def normalize_offset(offset, plot_range):\n",
    "    return offset * (plot_range/100)\n",
    "        \n"
   ]
  },
  {
   "cell_type": "code",
   "execution_count": 5,
   "metadata": {},
   "outputs": [],
   "source": [
    "# Take into account that some studies have been merged\n",
    "# Remove all but one of their rows\n",
    "\n",
    "df = df[df.PID != 'P4B']\n",
    "df = df[df.PID != 'P9B']\n",
    "df = df[df.PID != 'P9C']\n",
    "df = df[df.PID != 'P31B']\n"
   ]
  },
  {
   "cell_type": "markdown",
   "metadata": {
    "pycharm": {
     "name": "#%% md\n"
    }
   },
   "source": [
    "# What is measured?\n",
    "What is the main aspect that the study aims to quantify?"
   ]
  },
  {
   "cell_type": "code",
   "execution_count": 6,
   "metadata": {
    "pycharm": {
     "name": "#%%\n"
    },
    "scrolled": true
   },
   "outputs": [
    {
     "name": "stdout",
     "output_type": "stream",
     "text": [
      "speed           19\n",
      "enerconsum      16\n",
      "bandwidth        5\n",
      "memconsum        3\n",
      "cacheperform     2\n",
      "dtype: int64\n"
     ]
    }
   ],
   "source": [
    "main_aspects = get_all_values(df[\"code_measured\"])\n",
    "print(main_aspects.value_counts())"
   ]
  },
  {
   "cell_type": "code",
   "execution_count": 7,
   "metadata": {
    "pycharm": {
     "name": "#%%\n"
    }
   },
   "outputs": [
    {
     "data": {
      "image/png": "[encoded data removed]",
      "text/plain": [
       "<Figure size 432x180 with 1 Axes>"
      ]
     },
     "metadata": {},
     "output_type": "display_data"
    }
   ],
   "source": [
    "plt.rcParams.update({'font.size': 10, 'figure.figsize':(6,2.5)}) # Set plot font size.\n",
    "fig, ax = plt.subplots()\n",
    "g = sns.countplot(y=0, ax=ax, orient=\"h\", data=main_aspects, order=[\"speed\", \"enerconsum\", \n",
    "                                                             \"bandwidth\", \"memconsum\", \"cacheperform\"], \n",
    "                                                              color='#B1B1B1', edgecolor='black', linewidth=0.5)\n",
    "\n",
    "ax.figure.subplots_adjust()\n",
    "g.set_xticks(range(20))\n",
    "g.set_xticklabels(range(20))\n",
    "g.set_yticks(range(5))\n",
    "\n",
    "# Please note that we map speed to PF (performance)\n",
    "g.set_yticklabels([\"Performance\", \"Energy\\nconsumption\",  \"Bandwidth\",  \"Memory\\nconsumption\", \"Caching\"])\n",
    "for p in g.patches:\n",
    "    height = p.get_width()\n",
    "    g.text(height + normalize_offset(20, 2.5), p.get_y() + 0.5, height ,ha=\"center\")\n",
    "g.set(ylabel=\"\", xlabel=\"Primary studies\" )\n",
    "#change_width(ax, .5)\n",
    "\n",
    "plt.savefig(f\"{PLOT_PATH}/characteristics.pdf\", \n",
    "           dpi=600, bbox_inches='tight', )"
   ]
  },
  {
   "cell_type": "markdown",
   "metadata": {},
   "source": [
    "# What metrics are used?"
   ]
  },
  {
   "cell_type": "code",
   "execution_count": 9,
   "metadata": {},
   "outputs": [
    {
     "name": "stdout",
     "output_type": "stream",
     "text": [
      "memconsum\n",
      "memconsum/pss/ratio          1\n",
      "memconsum/memfootprint/mb    1\n",
      "memconsum/mb                 1\n",
      "dtype: int64\n",
      "speed\n",
      "speed/plt              9\n",
      "speed/si               4\n",
      "speed/lt               2\n",
      "speed/responsetime     2\n",
      "speed/latency          2\n",
      "speed/tti              2\n",
      "speed/lttw             1\n",
      "speed/fr               1\n",
      "speed/fmp              1\n",
      "speed/eil              1\n",
      "speed/fp               1\n",
      "speed/ds               1\n",
      "speed/fci              1\n",
      "speed/tbt              1\n",
      "speed/mttw             1\n",
      "speed/bd               1\n",
      "speed/ttfb             1\n",
      "speed/relative(plt)    1\n",
      "speed/fcp              1\n",
      "speed/lighthouse       1\n",
      "speed/uplt             1\n",
      "Name: 0, dtype: int64\n",
      "enerconsum\n",
      "enerconsum/joules      11\n",
      "enerconsum/relative     2\n",
      "enerconsum/mVs          2\n",
      "enerconsum/mAs          1\n",
      "dtype: int64\n",
      "cacheperform\n",
      "cacheperform/pm              1\n",
      "cacheperform/ph              1\n",
      "cacheperform/nm              1\n",
      "cacheperform/nh              1\n",
      "cacheperform/hr/ratio        1\n",
      "cacheperform/cacheability    1\n",
      "cacheperform/actualcache     1\n",
      "dtype: int64\n",
      "bandwidth\n",
      "bandwidth/bytes    3\n",
      "bandwidth/kb       2\n",
      "dtype: int64\n"
     ]
    }
   ],
   "source": [
    "used_metrics = get_all_values(df[\"code_metrics\"])\n",
    "possible_aspects = main_aspects[0].unique()\n",
    "\n",
    "for aspect in possible_aspects:\n",
    "    print(aspect)\n",
    "    if aspect==\"speed\":\n",
    "        # While we have a lot of different versions of speed/plt (some use s, ms etc.) count them as one.\n",
    "        print(used_metrics[used_metrics[0].str.startswith(aspect)][0].str.split(\"/\")\n",
    "              .str[:2].str.join(\"/\").value_counts())\n",
    "    else:\n",
    "        print(used_metrics[used_metrics[0].str.startswith(aspect)].value_counts())\n"
   ]
  },
  {
   "cell_type": "markdown",
   "metadata": {
    "pycharm": {
     "name": "#%% md\n"
    }
   },
   "source": [
    "# What data analysis techniques are used?"
   ]
  },
  {
   "cell_type": "code",
   "execution_count": 10,
   "metadata": {
    "pycharm": {
     "name": "#%%\n"
    }
   },
   "outputs": [
    {
     "data": {
      "text/plain": [
       "descstats    33\n",
       "hyptest      11\n",
       "effsize       6\n",
       "correlana     4\n",
       "predmod       3\n",
       "dtype: int64"
      ]
     },
     "execution_count": 10,
     "metadata": {},
     "output_type": "execute_result"
    }
   ],
   "source": [
    "stats = get_all_values(df[\"code_dataanalysis\"])\n",
    "stats.value_counts()"
   ]
  },
  {
   "cell_type": "code",
   "execution_count": 11,
   "metadata": {
    "pycharm": {
     "name": "#%%\n"
    }
   },
   "outputs": [
    {
     "data": {
      "image/png": "[encoded data removed]",
      "text/plain": [
       "<Figure size 432x180 with 1 Axes>"
      ]
     },
     "metadata": {},
     "output_type": "display_data"
    }
   ],
   "source": [
    "plt.rcParams.update({'font.size': 10, 'figure.figsize':(6,2.5)})\n",
    "g = sns.countplot(y=0, orient=\"h\", data=stats, order=stats[0].value_counts().index, color='#B1B1B1', edgecolor='black', linewidth=0.5)\n",
    "g.set_yticks(range(5))\n",
    "g.set_yticklabels([\"Descriptive\\nstatistics\", \"Hypothesis\\ntesting\", \"Effect size\\nestimation\", \"Correlation\\nanalysis\", \"Predictive\\nmodels\"])\n",
    "\n",
    "g.set(xlabel=\"Primary studies\", ylabel=\"\")\n",
    "for p in g.patches:\n",
    "    height = p.get_width()\n",
    "    g.text(height + normalize_offset(35, 2.5), p.get_y()+0.5, height ,ha=\"center\")\n",
    "g.set(xlim=(0, 35))\n",
    "\n",
    "plt.savefig(f\"{PLOT_PATH}/data_analysis.pdf\",\n",
    "dpi=600, bbox_inches='tight')"
   ]
  },
  {
   "cell_type": "markdown",
   "metadata": {
    "pycharm": {
     "name": "#%% md\n"
    }
   },
   "source": [
    "# How many studies provide a replication package of some sort?"
   ]
  },
  {
   "cell_type": "code",
   "execution_count": 12,
   "metadata": {
    "pycharm": {
     "name": "#%%\n"
    }
   },
   "outputs": [
    {
     "name": "stdout",
     "output_type": "stream",
     "text": [
      "no                            22\n",
      "yes/instructions_data_code     6\n",
      "yes/only_code                  2\n",
      "yes/data_code                  2\n",
      "yes/only_data                  1\n",
      "Name: code_reppackage, dtype: int64\n"
     ]
    }
   ],
   "source": [
    "reppack = df[\"code_reppackage\"].value_counts()\n",
    "print(reppack)"
   ]
  },
  {
   "cell_type": "code",
   "execution_count": 13,
   "metadata": {
    "pycharm": {
     "name": "#%%\n"
    }
   },
   "outputs": [
    {
     "data": {
      "image/png": "[encoded data removed]",
      "text/plain": [
       "<Figure size 432x180 with 1 Axes>"
      ]
     },
     "metadata": {},
     "output_type": "display_data"
    }
   ],
   "source": [
    "plt.rcParams.update({'font.size': 10, 'figure.figsize':(6,2.5)})\n",
    "g = sns.countplot(y=\"code_reppackage\", orient=\"h\", data=df, \n",
    "                  order = df['code_reppackage'].value_counts().index, color='#B1B1B1', edgecolor='black', linewidth=0.5)\n",
    "\n",
    "xlabels = list(range(0,23,2))\n",
    "g.set_xticks(xlabels) \n",
    "\n",
    "g.set_xticklabels(xlabels)\n",
    "g.set_yticks(range(5))\n",
    "g.set_yticklabels([\"None\", \"Instructions,\\n code & data\", \"Code & data\", \"Code only\", \"Data only\"])\n",
    "\n",
    "\n",
    "g.set(xlabel=\"Primary studies\", ylabel=\"\")\n",
    "for p in g.patches:\n",
    "    height = p.get_width()\n",
    "    g.text(height + normalize_offset(23, 2.5), p.get_y() + 0.5, height ,ha=\"center\")\n",
    "g.set(xlim=(0, 23))\n",
    "\n",
    "plt.savefig(f\"{PLOT_PATH}/reppackage.pdf\",\n",
    "dpi=600, bbox_inches='tight')"
   ]
  },
  {
   "cell_type": "markdown",
   "metadata": {
    "pycharm": {
     "name": "#%% md\n"
    }
   },
   "source": [
    "# Platform characteristics\n",
    "## What types of devices are used?"
   ]
  },
  {
   "cell_type": "code",
   "execution_count": 14,
   "metadata": {
    "pycharm": {
     "name": "#%%\n"
    }
   },
   "outputs": [
    {
     "data": {
      "text/plain": [
       "smartphone    25\n",
       "emulation      6\n",
       "tablet         4\n",
       "dtype: int64"
      ]
     },
     "execution_count": 14,
     "metadata": {},
     "output_type": "execute_result"
    }
   ],
   "source": [
    "device_types = get_all_values(df[\"code_platform\"])\n",
    "device_types.value_counts()"
   ]
  },
  {
   "cell_type": "code",
   "execution_count": 15,
   "metadata": {
    "pycharm": {
     "name": "#%%\n"
    }
   },
   "outputs": [
    {
     "data": {
      "image/png": "[encoded data removed]",
      "text/plain": [
       "<Figure size 432x180 with 1 Axes>"
      ]
     },
     "metadata": {},
     "output_type": "display_data"
    }
   ],
   "source": [
    "plt.rcParams.update({'font.size': 17, 'figure.figsize':(6,2.5)})\n",
    "\n",
    "g = sns.countplot(y=0, orient=\"h\", data=device_types, order=[\"smartphone\", 'emulation', \"tablet\"], \n",
    "                  color='#B1B1B1', edgecolor='black', linewidth=0.5)\n",
    "\n",
    "\n",
    "g.set_yticks(range(3))\n",
    "g.set_yticklabels([\"Smartphone\", \"Emulation\", \"Tablet\" ])\n",
    "\n",
    "\n",
    "g.set(xlabel=\"Primary studies\", ylabel=\"\") # You can comment this line out if you don't need title\n",
    "for p in g.patches:\n",
    "    height = p.get_width()\n",
    "    g.text(height + normalize_offset(28, 3.5), p.get_y()+0.5, int(height) ,ha=\"center\")\n",
    "g.set(xlim=(0, 28))\n",
    "\n",
    "plt.savefig(f\"{PLOT_PATH}/devicetype.pdf\",\n",
    "dpi=600, bbox_inches='tight')\n",
    "\n"
   ]
  },
  {
   "cell_type": "markdown",
   "metadata": {
    "pycharm": {
     "name": "#%% md\n"
    }
   },
   "source": [
    "## OS Distribution"
   ]
  },
  {
   "cell_type": "code",
   "execution_count": 16,
   "metadata": {
    "pycharm": {
     "name": "#%%\n"
    }
   },
   "outputs": [
    {
     "name": "stdout",
     "output_type": "stream",
     "text": [
      "adroid     45\n",
      "emu         6\n",
      "ios         2\n",
      "maemo       1\n",
      "mixed       1\n",
      "symbian     1\n",
      "Name: 0, dtype: int64\n"
     ]
    }
   ],
   "source": [
    "oses = get_all_values(df[\"code_os\"])\n",
    "oses = oses[0].apply(get_level, level=0)\n",
    "oses = oses.value_counts()\n",
    "print(oses)"
   ]
  },
  {
   "cell_type": "markdown",
   "metadata": {
    "pycharm": {
     "name": "#%% md\n"
    }
   },
   "source": [
    "Lets classify the maemo and symbian OS as \"other\" and remove the emulated devices."
   ]
  },
  {
   "cell_type": "code",
   "execution_count": 17,
   "metadata": {
    "pycharm": {
     "name": "#%%\n"
    }
   },
   "outputs": [
    {
     "data": {
      "text/plain": [
       "adroid    45\n",
       "ios        2\n",
       "mixed      1\n",
       "other      2\n",
       "Name: 0, dtype: int64"
      ]
     },
     "execution_count": 17,
     "metadata": {},
     "output_type": "execute_result"
    }
   ],
   "source": [
    "oses = oses.drop([\"emu\", \"symbian\", \"maemo\"])\n",
    "oses[\"other\"] = 2\n",
    "oses"
   ]
  },
  {
   "cell_type": "code",
   "execution_count": 18,
   "metadata": {
    "pycharm": {
     "name": "#%%\n"
    }
   },
   "outputs": [
    {
     "name": "stderr",
     "output_type": "stream",
     "text": [
      "/usr/local/lib/python3.8/site-packages/seaborn/_decorators.py:36: FutureWarning: Pass the following variables as keyword args: x, y. From version 0.12, the only valid positional argument will be `data`, and passing other arguments without an explicit keyword will result in an error or misinterpretation.\n",
      "  warnings.warn(\n"
     ]
    },
    {
     "data": {
      "image/png": "[encoded data removed]",
      "text/plain": [
       "<Figure size 432x180 with 1 Axes>"
      ]
     },
     "metadata": {},
     "output_type": "display_data"
    }
   ],
   "source": [
    "plt.rcParams.update({'font.size': 17, 'figure.figsize':(6,2.5)})\n",
    "\n",
    "g = sns.barplot(oses.values, oses.index, color='#B1B1B1', edgecolor='black', linewidth=0.5, order=[\"adroid\", \"ios\", \n",
    "                                                             \"other\", \"mixed\"])\n",
    "\n",
    "g.set_yticks(range(4))\n",
    "g.set_yticklabels([\"Android\", \"iOS\", \"Other\", \"Mixed\"])\n",
    "\n",
    "g.set(xlabel=\"Primary studies\", ylabel=\"\") # You can comment this line out if you don't need title\n",
    "for p in g.patches:\n",
    "    height = p.get_width()\n",
    "    g.text(height + normalize_offset(45, 3.5), p.get_y()+0.55, int(height) ,ha=\"center\")\n",
    "g.set(xlim=(0, 45))\n",
    "\n",
    "plt.savefig(f\"{PLOT_PATH}/os.pdf\",\n",
    "dpi=600, bbox_inches='tight')"
   ]
  },
  {
   "cell_type": "markdown",
   "metadata": {
    "pycharm": {
     "name": "#%% md\n"
    }
   },
   "source": [
    "## Browser distribution"
   ]
  },
  {
   "cell_type": "code",
   "execution_count": 19,
   "metadata": {
    "pycharm": {
     "name": "#%%\n"
    }
   },
   "outputs": [],
   "source": [
    "browsers = get_all_values(df[\"code_browser\"])\n",
    "names = browsers[0].apply(get_level, level=0)\n",
    "names = names.value_counts()"
   ]
  },
  {
   "cell_type": "markdown",
   "metadata": {
    "pycharm": {
     "name": "#%% md\n"
    }
   },
   "source": [
    "Since there is one paper that tested a large number of different browsers and versions (24 browsers\n",
    "that fall into the category other) we add them to other."
   ]
  },
  {
   "cell_type": "code",
   "execution_count": 20,
   "metadata": {
    "pycharm": {
     "name": "#%%\n"
    }
   },
   "outputs": [
    {
     "name": "stdout",
     "output_type": "stream",
     "text": [
      "chrome          16\n",
      "firefox          9\n",
      "modified         8\n",
      "other           32\n",
      "safari           2\n",
      "not provided     1\n",
      "Name: 0, dtype: int64\n"
     ]
    }
   ],
   "source": [
    "cleaned_names = names.drop([\"emu\", \"other*24\", \"opera\", \"webpagetest\", \"nativeadroid\"])\n",
    "cleaned_names[\"other\"] = cleaned_names[\"other\"] + 28\n",
    "print(cleaned_names)"
   ]
  },
  {
   "cell_type": "code",
   "execution_count": 21,
   "metadata": {
    "pycharm": {
     "name": "#%%\n"
    }
   },
   "outputs": [
    {
     "name": "stderr",
     "output_type": "stream",
     "text": [
      "/usr/local/lib/python3.8/site-packages/seaborn/_decorators.py:36: FutureWarning: Pass the following variables as keyword args: x, y. From version 0.12, the only valid positional argument will be `data`, and passing other arguments without an explicit keyword will result in an error or misinterpretation.\n",
      "  warnings.warn(\n"
     ]
    },
    {
     "data": {
      "image/png": "[encoded data removed]",
      "text/plain": [
       "<Figure size 432x180 with 1 Axes>"
      ]
     },
     "metadata": {},
     "output_type": "display_data"
    }
   ],
   "source": [
    "plt.rcParams.update({'font.size': 17, 'figure.figsize':(6,2.5)})\n",
    "cleaned_names = cleaned_names.sort_values(ascending=False)\n",
    "g = sns.barplot(cleaned_names.values, cleaned_names.index, color='#B1B1B1', edgecolor='black', linewidth=0.5)\n",
    "\n",
    "\n",
    "g.set_yticks(range(6))\n",
    "g.set_yticklabels([\"Other\", \"Chrome\", \"FireFox\", \"Modified\", \"Safari\", \"Not provided\"])\n",
    "\n",
    "g.set(xlabel=\"Primary studies\", ylabel=\"\")\n",
    "for p in g.patches:\n",
    "    height = p.get_width()\n",
    "    g.text(height + normalize_offset(35, 3.5), p.get_y()+0.675, int(height) ,ha=\"center\")\n",
    "g.set(xlim=(0, 35))\n",
    "\n",
    "plt.savefig(f\"{PLOT_PATH}/browser.pdf\",\n",
    "dpi=600, bbox_inches='tight')"
   ]
  },
  {
   "cell_type": "markdown",
   "metadata": {
    "pycharm": {
     "name": "#%% md\n"
    }
   },
   "source": [
    "# Website characteristics\n",
    "## Website type distribution"
   ]
  },
  {
   "cell_type": "code",
   "execution_count": 22,
   "metadata": {
    "pycharm": {
     "name": "#%%\n"
    }
   },
   "outputs": [
    {
     "data": {
      "text/plain": [
       "real               19\n",
       "real, synthetic     9\n",
       "synthetic           5\n",
       "Name: code_sitestype, dtype: int64"
      ]
     },
     "execution_count": 22,
     "metadata": {},
     "output_type": "execute_result"
    }
   ],
   "source": [
    "df[\"code_sitestype\"].value_counts()"
   ]
  },
  {
   "cell_type": "code",
   "execution_count": 23,
   "metadata": {
    "pycharm": {
     "name": "#%%\n"
    }
   },
   "outputs": [
    {
     "data": {
      "image/png": "[encoded data removed]",
      "text/plain": [
       "<Figure size 432x180 with 1 Axes>"
      ]
     },
     "metadata": {},
     "output_type": "display_data"
    }
   ],
   "source": [
    "plt.rcParams.update({'font.size': 17, 'figure.figsize':(6,2.5)})\n",
    "\n",
    "g = sns.countplot(y=\"code_sitestype\", orient=\"h\", data=df, order = df['code_sitestype'].value_counts().index, color='#B1B1B1', edgecolor='black', linewidth=0.5)\n",
    "\n",
    "g.set_yticks(range(3))\n",
    "g.set_yticklabels([\"Real\", \"Both\", \"Synthetic\"])\n",
    "\n",
    "g.set(xlabel=\"Primary studies\", ylabel=\"\") # You can comment this line out if you don't need title\n",
    "for p in g.patches:\n",
    "    height = p.get_width()\n",
    "    g.text(height + normalize_offset(20, 3.5), p.get_y()+0.5, int(height) ,ha=\"center\")\n",
    "g.set(xlim=(0, 20))\n",
    "\n",
    "plt.savefig(f\"{PLOT_PATH}/sitetype.pdf\", dpi=600, bbox_inches='tight')\n"
   ]
  },
  {
   "cell_type": "markdown",
   "metadata": {
    "pycharm": {
     "name": "#%% md\n"
    }
   },
   "source": [
    "## Selection sources distribution\n"
   ]
  },
  {
   "cell_type": "code",
   "execution_count": 24,
   "metadata": {
    "pycharm": {
     "name": "#%%\n"
    }
   },
   "outputs": [
    {
     "name": "stdout",
     "output_type": "stream",
     "text": [
      "alexa          15\n",
      "nosource        8\n",
      "selfcreated     5\n",
      "list            4\n",
      "scraped         1\n",
      "preprovided     1\n",
      "benchmarks      1\n",
      "dtype: int64\n"
     ]
    }
   ],
   "source": [
    "df[\"code_sitesingle\"].value_counts()\n",
    "site_source = get_all_values(df[\"code_sitesingle\"]).value_counts()\n",
    "print(site_source)"
   ]
  },
  {
   "cell_type": "markdown",
   "metadata": {},
   "source": [
    "We remove the self created websites from this list since we don't look at synthethic sites here. Next we group the preprovided, scraped and benchmark sites into one group called \"other\"."
   ]
  },
  {
   "cell_type": "code",
   "execution_count": 25,
   "metadata": {
    "pycharm": {
     "name": "#%%\n"
    }
   },
   "outputs": [
    {
     "name": "stdout",
     "output_type": "stream",
     "text": [
      "alexa        15\n",
      "nosource      8\n",
      "list          4\n",
      "realother     3\n",
      "dtype: int64\n"
     ]
    },
    {
     "name": "stderr",
     "output_type": "stream",
     "text": [
      "/usr/local/lib/python3.8/site-packages/pandas/core/generic.py:3878: PerformanceWarning: dropping on a non-lexsorted multi-index without a level parameter may impact performance.\n",
      "  obj = obj._drop_axis(labels, axis, level=level, errors=errors)\n"
     ]
    }
   ],
   "source": [
    "site_source = site_source.drop([\"selfcreated\", \"scraped\", \"benchmarks\", \"preprovided\"])\n",
    "site_source[\"realother\"] = 3\n",
    "print(site_source)"
   ]
  },
  {
   "cell_type": "code",
   "execution_count": 26,
   "metadata": {
    "pycharm": {
     "name": "#%%\n"
    }
   },
   "outputs": [
    {
     "name": "stderr",
     "output_type": "stream",
     "text": [
      "/usr/local/lib/python3.8/site-packages/seaborn/_decorators.py:36: FutureWarning: Pass the following variables as keyword args: x, y. From version 0.12, the only valid positional argument will be `data`, and passing other arguments without an explicit keyword will result in an error or misinterpretation.\n",
      "  warnings.warn(\n"
     ]
    },
    {
     "data": {
      "image/png": "[encoded data removed]",
      "text/plain": [
       "<Figure size 432x180 with 1 Axes>"
      ]
     },
     "metadata": {},
     "output_type": "display_data"
    }
   ],
   "source": [
    "plt.rcParams.update({'font.size': 17, 'figure.figsize':(6,2.5)})\n",
    "site_source.index = [\"Alexa\", \"No Source\", \"Ad-hoc List\", \"Other\"]\n",
    "g = sns.barplot(site_source.values, site_source.index, color='#B1B1B1', edgecolor='black', linewidth=0.5)\n",
    "\n",
    "g.set_yticks(range(4))\n",
    "g.set_yticklabels([\"Alexa\", \"No\\n source\", \"Ad-hoc\\nlist\", \"Other\"])\n",
    "\n",
    "g.set(xlabel=\"Primary studies\", ylabel=\"\") # You can comment this line out if you don't need title\n",
    "for p in g.patches:\n",
    "    height = p.get_width()\n",
    "    g.text(height + normalize_offset(16, 3.5), p.get_y()+0.5, int(height) ,ha=\"center\")\n",
    "g.set(xlim=(0, 16))\n",
    "\n",
    "plt.savefig(f\"{PLOT_PATH}/siteselection.pdf\",\n",
    "dpi=600, bbox_inches='tight')\n"
   ]
  },
  {
   "cell_type": "markdown",
   "metadata": {
    "pycharm": {
     "name": "#%% md\n"
    }
   },
   "source": [
    "## Hosting distribution\n"
   ]
  },
  {
   "cell_type": "code",
   "execution_count": 27,
   "metadata": {
    "pycharm": {
     "name": "#%%\n"
    }
   },
   "outputs": [
    {
     "data": {
      "text/plain": [
       "original          19\n",
       "mirrored           8\n",
       "not applicable     5\n",
       "not provided       1\n",
       "Name: code_siteshosted, dtype: int64"
      ]
     },
     "execution_count": 27,
     "metadata": {},
     "output_type": "execute_result"
    }
   ],
   "source": [
    "hosted = df[\"code_siteshosted\"].value_counts()\n",
    "hosted"
   ]
  },
  {
   "cell_type": "markdown",
   "metadata": {},
   "source": [
    "Don't take into account the 4 papers using synthethic websites..."
   ]
  },
  {
   "cell_type": "code",
   "execution_count": 28,
   "metadata": {
    "pycharm": {
     "name": "#%%\n"
    }
   },
   "outputs": [],
   "source": [
    "hosted = hosted.drop([\"not applicable\"])"
   ]
  },
  {
   "cell_type": "code",
   "execution_count": 29,
   "metadata": {
    "pycharm": {
     "name": "#%%\n"
    }
   },
   "outputs": [
    {
     "name": "stderr",
     "output_type": "stream",
     "text": [
      "/usr/local/lib/python3.8/site-packages/seaborn/_decorators.py:36: FutureWarning: Pass the following variables as keyword args: x, y. From version 0.12, the only valid positional argument will be `data`, and passing other arguments without an explicit keyword will result in an error or misinterpretation.\n",
      "  warnings.warn(\n"
     ]
    },
    {
     "data": {
      "image/png": "[encoded data removed]",
      "text/plain": [
       "<Figure size 432x180 with 1 Axes>"
      ]
     },
     "metadata": {},
     "output_type": "display_data"
    }
   ],
   "source": [
    "plt.rcParams.update({'font.size': 17, 'figure.figsize':(6,2.5)})\n",
    "\n",
    "g = sns.barplot(hosted.values, hosted.index, color='#B1B1B1', edgecolor='black', linewidth=0.5)\n",
    "\n",
    "g.set_yticks(range(3))\n",
    "g.set_yticklabels([\"Original\", \"Mirrored\", \"Not provided\",])\n",
    "\n",
    "g.set(xlabel=\"Primary studies\", ylabel=\"\") # You can comment this line out if you don't need title\n",
    "for p in g.patches:\n",
    "    height = p.get_width()\n",
    "    g.text(height + normalize_offset(20, 3.5), p.get_y()+0.5, int(height) ,ha=\"center\")\n",
    "g.set(xlim=(0, 20))\n",
    "\n",
    "plt.savefig(f\"{PLOT_PATH}/sitehosting.pdf\",\n",
    "dpi=600, bbox_inches='tight')"
   ]
  },
  {
   "cell_type": "markdown",
   "metadata": {
    "pycharm": {
     "name": "#%% md\n"
    }
   },
   "source": [
    "## Number of websites"
   ]
  },
  {
   "cell_type": "code",
   "execution_count": 30,
   "metadata": {
    "pycharm": {
     "name": "#%%\n"
    }
   },
   "outputs": [
    {
     "data": {
      "text/html": [
       "<div>\n",
       "<style scoped>\n",
       "    .dataframe tbody tr th:only-of-type {\n",
       "        vertical-align: middle;\n",
       "    }\n",
       "\n",
       "    .dataframe tbody tr th {\n",
       "        vertical-align: top;\n",
       "    }\n",
       "\n",
       "    .dataframe thead th {\n",
       "        text-align: right;\n",
       "    }\n",
       "</style>\n",
       "<table border=\"1\" class=\"dataframe\">\n",
       "  <thead>\n",
       "    <tr style=\"text-align: right;\">\n",
       "      <th></th>\n",
       "      <th>Title</th>\n",
       "      <th>code_nrsites</th>\n",
       "    </tr>\n",
       "  </thead>\n",
       "  <tbody>\n",
       "    <tr>\n",
       "      <th>0</th>\n",
       "      <td>Mobile Web Browsing Under Memory Pressure</td>\n",
       "      <td>100</td>\n",
       "    </tr>\n",
       "    <tr>\n",
       "      <th>1</th>\n",
       "      <td>Web Browser Workload Characterization for Powe...</td>\n",
       "      <td>6</td>\n",
       "    </tr>\n",
       "    <tr>\n",
       "      <th>2</th>\n",
       "      <td>Privacy as a proxy for Green Web browsing: Met...</td>\n",
       "      <td>notprovided</td>\n",
       "    </tr>\n",
       "    <tr>\n",
       "      <th>3</th>\n",
       "      <td>An empirical study of power consumption of Web...</td>\n",
       "      <td>3</td>\n",
       "    </tr>\n",
       "    <tr>\n",
       "      <th>5</th>\n",
       "      <td>Investigating the Correlation between Performa...</td>\n",
       "      <td>21</td>\n",
       "    </tr>\n",
       "    <tr>\n",
       "      <th>6</th>\n",
       "      <td>Why are Web Browsers Slow on Smartphones?</td>\n",
       "      <td>20</td>\n",
       "    </tr>\n",
       "    <tr>\n",
       "      <th>7</th>\n",
       "      <td>From 6.2 to 0.15 seconds – an Industrial Case ...</td>\n",
       "      <td>1</td>\n",
       "    </tr>\n",
       "    <tr>\n",
       "      <th>8</th>\n",
       "      <td>The Web for Underpowered Mobile Devices: Lesso...</td>\n",
       "      <td>50</td>\n",
       "    </tr>\n",
       "    <tr>\n",
       "      <th>9</th>\n",
       "      <td>Demystifying the Imperfect Client-Side Cache P...</td>\n",
       "      <td>146</td>\n",
       "    </tr>\n",
       "    <tr>\n",
       "      <th>12</th>\n",
       "      <td>Performance Analysis of Web-browsing Speed in ...</td>\n",
       "      <td>3</td>\n",
       "    </tr>\n",
       "    <tr>\n",
       "      <th>13</th>\n",
       "      <td>What is wrecking your dataplan? A measurement ...</td>\n",
       "      <td>95728</td>\n",
       "    </tr>\n",
       "    <tr>\n",
       "      <th>14</th>\n",
       "      <td>Understanding Quality of Experiences on Differ...</td>\n",
       "      <td>337</td>\n",
       "    </tr>\n",
       "    <tr>\n",
       "      <th>15</th>\n",
       "      <td>Push or Request: An Investigation of HTTP/2 Se...</td>\n",
       "      <td>50</td>\n",
       "    </tr>\n",
       "    <tr>\n",
       "      <th>16</th>\n",
       "      <td>mBenchLab: Measuring QoE of Web Applications u...</td>\n",
       "      <td>4</td>\n",
       "    </tr>\n",
       "    <tr>\n",
       "      <th>17</th>\n",
       "      <td>Experimental Study of Energy and Bandwidth Cos...</td>\n",
       "      <td>5</td>\n",
       "    </tr>\n",
       "    <tr>\n",
       "      <th>18</th>\n",
       "      <td>AMP up your Mobile Web Experience: Characteriz...</td>\n",
       "      <td>8528</td>\n",
       "    </tr>\n",
       "    <tr>\n",
       "      <th>19</th>\n",
       "      <td>Analysis of the Energy Consumption of JavaScri...</td>\n",
       "      <td>8</td>\n",
       "    </tr>\n",
       "    <tr>\n",
       "      <th>20</th>\n",
       "      <td>Characterizing Resource Usage for Mobile Web B...</td>\n",
       "      <td>470</td>\n",
       "    </tr>\n",
       "    <tr>\n",
       "      <th>21</th>\n",
       "      <td>Refining Mobile Web Design for Reducing Energy...</td>\n",
       "      <td>13</td>\n",
       "    </tr>\n",
       "    <tr>\n",
       "      <th>22</th>\n",
       "      <td>Need for Mobile Speed: A Historical Analysis o...</td>\n",
       "      <td>150</td>\n",
       "    </tr>\n",
       "    <tr>\n",
       "      <th>23</th>\n",
       "      <td>Caching Doesn’t Improve Mobile Web Performance...</td>\n",
       "      <td>400</td>\n",
       "    </tr>\n",
       "    <tr>\n",
       "      <th>24</th>\n",
       "      <td>Web Experience in Mobile Networks: Lessons fro...</td>\n",
       "      <td>18</td>\n",
       "    </tr>\n",
       "    <tr>\n",
       "      <th>25</th>\n",
       "      <td>Assessing the Impact of Service Workers on the...</td>\n",
       "      <td>7</td>\n",
       "    </tr>\n",
       "    <tr>\n",
       "      <th>26</th>\n",
       "      <td>Evaluating the Impact of Caching on the Energy...</td>\n",
       "      <td>9</td>\n",
       "    </tr>\n",
       "    <tr>\n",
       "      <th>27</th>\n",
       "      <td>Who killed my battery: Analyzing mobile browse...</td>\n",
       "      <td>25</td>\n",
       "    </tr>\n",
       "    <tr>\n",
       "      <th>28</th>\n",
       "      <td>An In-depth study of Mobile Browser Performance</td>\n",
       "      <td>200</td>\n",
       "    </tr>\n",
       "    <tr>\n",
       "      <th>29</th>\n",
       "      <td>Measuring AJAX Performance on a GPRS Mobile Pl...</td>\n",
       "      <td>2</td>\n",
       "    </tr>\n",
       "    <tr>\n",
       "      <th>30</th>\n",
       "      <td>Evaluation of Techniques for web 3D Graphics A...</td>\n",
       "      <td>3</td>\n",
       "    </tr>\n",
       "    <tr>\n",
       "      <th>31</th>\n",
       "      <td>WebMythBusters: An In-depth Study of Mobile We...</td>\n",
       "      <td>60</td>\n",
       "    </tr>\n",
       "    <tr>\n",
       "      <th>32</th>\n",
       "      <td>Characterizing Embedded Web Browsing in Mobile...</td>\n",
       "      <td>445</td>\n",
       "    </tr>\n",
       "    <tr>\n",
       "      <th>33</th>\n",
       "      <td>A Tale of Two Fashions: An Empirical Study on ...</td>\n",
       "      <td>notprovided</td>\n",
       "    </tr>\n",
       "    <tr>\n",
       "      <th>35</th>\n",
       "      <td>WebMedic: Disentangling the Memory–Functionali...</td>\n",
       "      <td>notprovided</td>\n",
       "    </tr>\n",
       "    <tr>\n",
       "      <th>36</th>\n",
       "      <td>PWA vs the Others: A Comparative Study on the ...</td>\n",
       "      <td>notprovided</td>\n",
       "    </tr>\n",
       "  </tbody>\n",
       "</table>\n",
       "</div>"
      ],
      "text/plain": [
       "                                                Title code_nrsites\n",
       "0           Mobile Web Browsing Under Memory Pressure          100\n",
       "1   Web Browser Workload Characterization for Powe...            6\n",
       "2   Privacy as a proxy for Green Web browsing: Met...  notprovided\n",
       "3   An empirical study of power consumption of Web...            3\n",
       "5   Investigating the Correlation between Performa...           21\n",
       "6           Why are Web Browsers Slow on Smartphones?           20\n",
       "7   From 6.2 to 0.15 seconds – an Industrial Case ...            1\n",
       "8   The Web for Underpowered Mobile Devices: Lesso...           50\n",
       "9   Demystifying the Imperfect Client-Side Cache P...          146\n",
       "12  Performance Analysis of Web-browsing Speed in ...            3\n",
       "13  What is wrecking your dataplan? A measurement ...        95728\n",
       "14  Understanding Quality of Experiences on Differ...          337\n",
       "15  Push or Request: An Investigation of HTTP/2 Se...           50\n",
       "16  mBenchLab: Measuring QoE of Web Applications u...            4\n",
       "17  Experimental Study of Energy and Bandwidth Cos...            5\n",
       "18  AMP up your Mobile Web Experience: Characteriz...         8528\n",
       "19  Analysis of the Energy Consumption of JavaScri...            8\n",
       "20  Characterizing Resource Usage for Mobile Web B...          470\n",
       "21  Refining Mobile Web Design for Reducing Energy...           13\n",
       "22  Need for Mobile Speed: A Historical Analysis o...          150\n",
       "23  Caching Doesn’t Improve Mobile Web Performance...          400\n",
       "24  Web Experience in Mobile Networks: Lessons fro...           18\n",
       "25  Assessing the Impact of Service Workers on the...            7\n",
       "26  Evaluating the Impact of Caching on the Energy...            9\n",
       "27  Who killed my battery: Analyzing mobile browse...           25\n",
       "28    An In-depth study of Mobile Browser Performance          200\n",
       "29  Measuring AJAX Performance on a GPRS Mobile Pl...            2\n",
       "30  Evaluation of Techniques for web 3D Graphics A...            3\n",
       "31  WebMythBusters: An In-depth Study of Mobile We...           60\n",
       "32  Characterizing Embedded Web Browsing in Mobile...          445\n",
       "33  A Tale of Two Fashions: An Empirical Study on ...  notprovided\n",
       "35  WebMedic: Disentangling the Memory–Functionali...  notprovided\n",
       "36  PWA vs the Others: A Comparative Study on the ...  notprovided"
      ]
     },
     "execution_count": 30,
     "metadata": {},
     "output_type": "execute_result"
    }
   ],
   "source": [
    "df[[\"Title\", \"code_nrsites\"]]"
   ]
  },
  {
   "cell_type": "markdown",
   "metadata": {
    "pycharm": {
     "name": "#%% md\n"
    }
   },
   "source": [
    "We remove the paper that did not provide the nr of subjects. In addition, to keep the plot readable, we only show the papers that use less than 150 subjects."
   ]
  },
  {
   "cell_type": "code",
   "execution_count": 32,
   "metadata": {},
   "outputs": [
    {
     "name": "stdout",
     "output_type": "stream",
     "text": [
      "Subjects NOT included in plots\n",
      "13    95728\n",
      "14      337\n",
      "18     8528\n",
      "20      470\n",
      "23      400\n",
      "28      200\n",
      "32      445\n",
      "Name: code_nrsites, dtype: int64\n"
     ]
    }
   ],
   "source": [
    "copy = df.copy()\n",
    "\n",
    "# Remove paper that does not provide data.\n",
    "copy = copy.drop([2, 33, 35, 36])\n",
    "\n",
    "copy[\"code_nrsites\"] = copy[\"code_nrsites\"].astype(\"int\")\n",
    "print(\"Subjects NOT included in plots\")\n",
    "print(copy[(copy[\"code_nrsites\"]) > 150][\"code_nrsites\"])\n",
    "plotthis = copy[(copy[\"code_nrsites\"]) < 151]"
   ]
  },
  {
   "cell_type": "code",
   "execution_count": 33,
   "metadata": {
    "pycharm": {
     "name": "#%%\n"
    }
   },
   "outputs": [
    {
     "data": {
      "image/png": "[encoded data removed]",
      "text/plain": [
       "<Figure size 432x180 with 1 Axes>"
      ]
     },
     "metadata": {},
     "output_type": "display_data"
    }
   ],
   "source": [
    "plt.rcParams.update({'font.size': 17, 'figure.figsize':(6,2.5)})\n",
    "\n",
    "copy[\"code_nrsites\"] = copy[\"code_nrsites\"].astype(float)\n",
    "g = sns.histplot(data=plotthis, x=\"code_nrsites\", color='#B1B1B1', edgecolor='black', linewidth=0.5, binwidth=5)\n",
    "\n",
    "g.set(xlabel=\"Number of subjects\", ylabel=\"\")\n",
    "for p in g.patches:\n",
    "    height = p.get_height()\n",
    "    if height != 0:\n",
    "        g.text(p.get_x() + p.get_width()/1.8, height+0.3, height, ha=\"center\", fontsize=15)\n",
    "g.set(ylim=(0, 10))\n",
    "g.set(yticklabels=[])\n",
    "\n",
    "plt.savefig(f\"{PLOT_PATH}/nrsites.pdf\",\n",
    "dpi=600, bbox_inches='tight')"
   ]
  },
  {
   "cell_type": "markdown",
   "metadata": {},
   "source": [
    "## Subjects provided distribution"
   ]
  },
  {
   "cell_type": "code",
   "execution_count": 34,
   "metadata": {},
   "outputs": [
    {
     "data": {
      "text/plain": [
       "Yes          15\n",
       "No           13\n",
       "synthetic     5\n",
       "Name: code_sitesprovided, dtype: int64"
      ]
     },
     "execution_count": 34,
     "metadata": {},
     "output_type": "execute_result"
    }
   ],
   "source": [
    "df[\"code_sitesprovided\"].value_counts()"
   ]
  },
  {
   "cell_type": "code",
   "execution_count": 35,
   "metadata": {},
   "outputs": [
    {
     "data": {
      "text/plain": [
       "pageload          25\n",
       "usagescenarios     5\n",
       "both               3\n",
       "Name: code_scope, dtype: int64"
      ]
     },
     "execution_count": 35,
     "metadata": {},
     "output_type": "execute_result"
    }
   ],
   "source": [
    "df['code_scope'].value_counts()"
   ]
  },
  {
   "cell_type": "markdown",
   "metadata": {
    "pycharm": {
     "name": "#%% md\n"
    }
   },
   "source": [
    "# Scope distribution\n",
    "\n"
   ]
  },
  {
   "cell_type": "code",
   "execution_count": 36,
   "metadata": {
    "pycharm": {
     "name": "#%%\n"
    }
   },
   "outputs": [
    {
     "data": {
      "image/png": "[encoded data removed]",
      "text/plain": [
       "<Figure size 432x180 with 1 Axes>"
      ]
     },
     "metadata": {},
     "output_type": "display_data"
    }
   ],
   "source": [
    "plt.rcParams.update({'font.size': 10, 'figure.figsize':(6,2.5)})\n",
    "g = sns.countplot(y=\"code_scope\", orient=\"h\", data=df, order = df['code_scope'].value_counts().index, color='#B1B1B1', edgecolor='black', linewidth=0.5)\n",
    "\n",
    "g.set_yticks(range(3))\n",
    "g.set_yticklabels([\"Page load\", \"Usage\\nscenario\", \"Both\"])\n",
    "\n",
    "\n",
    "g.set(xlabel=\"Primary studies\", ylabel=\"\")\n",
    "for p in g.patches:\n",
    "    height = p.get_width()\n",
    "    g.text(height + normalize_offset(27, 3.5), p.get_y() + 0.475, height ,ha=\"center\")\n",
    "g.set(xlim=(0, 27))\n",
    "\n",
    "plt.savefig(f\"{PLOT_PATH}/scope.pdf\", dpi=600, bbox_inches='tight')\n"
   ]
  },
  {
   "cell_type": "markdown",
   "metadata": {},
   "source": [
    "# Focus distribution"
   ]
  },
  {
   "cell_type": "code",
   "execution_count": 37,
   "metadata": {},
   "outputs": [
    {
     "data": {
      "text/plain": [
       "all           28\n",
       "javascript     5\n",
       "Name: code_focus, dtype: int64"
      ]
     },
     "execution_count": 37,
     "metadata": {},
     "output_type": "execute_result"
    }
   ],
   "source": [
    "df[\"code_focus\"].value_counts()"
   ]
  },
  {
   "cell_type": "markdown",
   "metadata": {},
   "source": [
    "# Network condition distribution\n",
    "\n"
   ]
  },
  {
   "cell_type": "code",
   "execution_count": 38,
   "metadata": {
    "pycharm": {
     "name": "#%%\n"
    }
   },
   "outputs": [
    {
     "data": {
      "text/plain": [
       "wifi(real)                                    15\n",
       "3g(real)                                       8\n",
       "not provided                                   7\n",
       "ethernet(real)                                 3\n",
       "wifi(emu)                                      2\n",
       "4g(real)                                       2\n",
       "4g(emu)                                        2\n",
       "simulated 4 times                              1\n",
       "simulated                                      1\n",
       "not applicable (no network requests fired)     1\n",
       "lte(real)                                      1\n",
       "ethernet(emu)                                  1\n",
       "GPRS(real)                                     1\n",
       "3g(emu)                                        1\n",
       "2g(emu)                                        1\n",
       "dtype: int64"
      ]
     },
     "execution_count": 38,
     "metadata": {},
     "output_type": "execute_result"
    }
   ],
   "source": [
    "networkconditions = get_all_values(df[\"code_networkcondition\"])\n",
    "networkconditions.value_counts()"
   ]
  },
  {
   "cell_type": "code",
   "execution_count": 39,
   "metadata": {
    "pycharm": {
     "name": "#%%\n"
    }
   },
   "outputs": [
    {
     "data": {
      "image/png": "[encoded data removed]",
      "text/plain": [
       "<Figure size 432x180 with 1 Axes>"
      ]
     },
     "metadata": {},
     "output_type": "display_data"
    }
   ],
   "source": [
    "plt.rcParams.update({'font.size': 10})\n",
    "d = {'category': [\"Real\", \"Real\", \"Real\", \"Simulated\", \n",
    "                  \"Real\", \"Simulated\", \"Simulated\", \"Real\", \n",
    "                  \"Simulated\", \"Simulated\", \"Simulated\", \"Not provided\", \"Real\"],\n",
    "     'Type': [\"WiFi\", \"3G\", \"Ethernet\", \"WiFi\", \"4G\", \"4G\", \n",
    "              \"Not Provided\", \"LTE\", \"Ethernet\", \"3G\", \"2G\", \"Not provided\", \"GPRS\"],\n",
    "     'occurrences': [15, 8, 3, 2, 2, 2, 5, 1, 1, 1, 1, 7, 1]}\n",
    "\n",
    "newdf = pd.DataFrame(data=d)\n",
    "g= sns.barplot(x=\"occurrences\",\n",
    "            y=\"category\",\n",
    "            hue=\"Type\",\n",
    "            data=newdf,\n",
    "               )\n",
    "\n",
    "import math\n",
    "import numpy as np\n",
    "g.set(xlabel=\"Primary studies\", ylabel=\"\")\n",
    "\n",
    "g.patches.sort(key=lambda x: x.get_y(), reverse=False)\n",
    "\n",
    "final = []\n",
    "for p in g.patches:\n",
    "    if np.isfinite(p.get_width()):\n",
    "       final.append(p)\n",
    "\n",
    "g.patches = final\n",
    "start = -0.4\n",
    "increment = 0.17\n",
    "for i, p in enumerate(g.patches):\n",
    "    p.set_height(.17)\n",
    "    p.set_y(start)\n",
    "    if i == 5 or i == 11:\n",
    "        start = start + increment*2\n",
    "    else:\n",
    "        start = start + increment\n",
    "    \n",
    "    g.text(p.get_width() + 0.42, p.get_y() + 0.165, int(p.get_width()),ha=\"center\", fontdict={'size': 10,})\n",
    "\n",
    "\n",
    "g.set(xlim=(0, int(25)))\n",
    "plt.savefig(f\"{PLOT_PATH}/network.pdf\",\n",
    "dpi=600, bbox_inches='tight')\n",
    "\n"
   ]
  },
  {
   "cell_type": "markdown",
   "metadata": {},
   "source": [
    "# Browser cache use distribution"
   ]
  },
  {
   "cell_type": "code",
   "execution_count": 40,
   "metadata": {},
   "outputs": [
    {
     "data": {
      "text/plain": [
       "disabled       13\n",
       "notprovided    11\n",
       "both            8\n",
       "enabled         1\n",
       "Name: code_caching, dtype: int64"
      ]
     },
     "execution_count": 40,
     "metadata": {},
     "output_type": "execute_result"
    }
   ],
   "source": [
    "df['code_caching'].value_counts()"
   ]
  },
  {
   "cell_type": "code",
   "execution_count": 41,
   "metadata": {
    "pycharm": {
     "name": "#%%\n"
    },
    "scrolled": true
   },
   "outputs": [
    {
     "data": {
      "image/png": "[encoded data removed]",
      "text/plain": [
       "<Figure size 432x180 with 1 Axes>"
      ]
     },
     "metadata": {},
     "output_type": "display_data"
    }
   ],
   "source": [
    "plt.rcParams.update({'font.size': 10, 'figure.figsize':(6,2.5)})\n",
    "g = sns.countplot(y=\"code_caching\", orient=\"h\", data=df, \n",
    "                  order = df['code_caching'].value_counts().index, color='#B1B1B1', edgecolor='black', linewidth=0.5)\n",
    "\n",
    "g.set_yticks(range(4))\n",
    "g.set_yticklabels([\"Disabled\", \"Not provided\", \"Both\", \"Enabled\"])\n",
    "\n",
    "g.set(xlabel=\"Primary studies\", ylabel=\"\")\n",
    "for p in g.patches:\n",
    "    height = p.get_width()\n",
    "    g.text(height + normalize_offset(15, 2.5), p.get_y() + 0.45, height ,ha=\"center\")\n",
    "g.set(xlim=(0, 15))\n",
    "\n",
    "plt.savefig(f\"{PLOT_PATH}/caching.pdf\",\n",
    "dpi=600, bbox_inches='tight')\n"
   ]
  },
  {
   "cell_type": "markdown",
   "metadata": {
    "pycharm": {
     "name": "#%%\n"
    }
   },
   "source": [
    "# Found challenges by the papers during research"
   ]
  },
  {
   "cell_type": "code",
   "execution_count": 42,
   "metadata": {},
   "outputs": [
    {
     "data": {
      "text/plain": [
       "low generalizability           16\n",
       "not provided                   11\n",
       "limitations of used metrics     8\n",
       "measurement errors              6\n",
       "problems during experiment      1\n",
       "not reproducibility             1\n",
       "generalizability                1\n",
       "controlled                      1\n",
       "dtype: int64"
      ]
     },
     "execution_count": 42,
     "metadata": {},
     "output_type": "execute_result"
    }
   ],
   "source": [
    "challenges = get_all_values(df[\"code_challenges\"])\n",
    "challenges.value_counts()"
   ]
  }
 ],
 "metadata": {
  "interpreter": {
   "hash": "aee8b7b246df8f9039afb4144a1f6fd8d2ca17a180786b69acc140d282b71a49"
  },
  "kernelspec": {
   "display_name": "Python 3.8.5 64-bit",
   "name": "python3"
  },
  "language_info": {
   "codemirror_mode": {
    "name": "ipython",
    "version": 3
   },
   "file_extension": ".py",
   "mimetype": "text/x-python",
   "name": "python",
   "nbconvert_exporter": "python",
   "pygments_lexer": "ipython3",
   "version": "3.8.5"
  }
 },
 "nbformat": 4,
 "nbformat_minor": 1
}
